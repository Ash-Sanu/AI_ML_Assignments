{
  "cells": [
    {
      "cell_type": "code",
      "execution_count": 45,
      "metadata": {
        "id": "HhCqNAVbLymK"
      },
      "outputs": [],
      "source": [
        "import numpy as np\n",
        "import pandas as pd\n",
        "import matplotlib.pyplot as plt\n",
        "import seaborn as sns"
      ]
    },
    {
      "cell_type": "code",
      "execution_count": 46,
      "metadata": {
        "id": "kswD6NPfMq1c",
        "colab": {
          "base_uri": "https://localhost:8080/",
          "height": 307
        },
        "outputId": "939733f2-b64d-418b-93ce-428da3186821"
      },
      "outputs": [
        {
          "output_type": "execute_result",
          "data": {
            "text/plain": [
              "   ID  LIMIT_BAL  SEX  EDUCATION  MARRIAGE  AGE  PAY_1  PAY_2  PAY_3  PAY_4  \\\n",
              "0   1      20000    2          2         1   24      2      2     -1     -1   \n",
              "1   2     120000    2          2         2   26     -1      2      0      0   \n",
              "2   3      90000    2          2         2   34      0      0      0      0   \n",
              "3   4      50000    2          2         1   37      0      0      0      0   \n",
              "4   5      50000    1          2         1   57     -1      0     -1      0   \n",
              "\n",
              "   ...  BILL_AMT4  BILL_AMT5  BILL_AMT6  PAY_AMT1  PAY_AMT2  PAY_AMT3  \\\n",
              "0  ...          0          0          0         0       689         0   \n",
              "1  ...       3272       3455       3261         0      1000      1000   \n",
              "2  ...      14331      14948      15549      1518      1500      1000   \n",
              "3  ...      28314      28959      29547      2000      2019      1200   \n",
              "4  ...      20940      19146      19131      2000     36681     10000   \n",
              "\n",
              "   PAY_AMT4  PAY_AMT5  PAY_AMT6  default payment next month  \n",
              "0         0         0         0                           1  \n",
              "1      1000         0      2000                           1  \n",
              "2      1000      1000      5000                           0  \n",
              "3      1100      1069      1000                           0  \n",
              "4      9000       689       679                           0  \n",
              "\n",
              "[5 rows x 25 columns]"
            ],
            "text/html": [
              "\n",
              "  <div id=\"df-8c5adbf7-bcc6-47f8-935a-c1693953e207\" class=\"colab-df-container\">\n",
              "    <div>\n",
              "<style scoped>\n",
              "    .dataframe tbody tr th:only-of-type {\n",
              "        vertical-align: middle;\n",
              "    }\n",
              "\n",
              "    .dataframe tbody tr th {\n",
              "        vertical-align: top;\n",
              "    }\n",
              "\n",
              "    .dataframe thead th {\n",
              "        text-align: right;\n",
              "    }\n",
              "</style>\n",
              "<table border=\"1\" class=\"dataframe\">\n",
              "  <thead>\n",
              "    <tr style=\"text-align: right;\">\n",
              "      <th></th>\n",
              "      <th>ID</th>\n",
              "      <th>LIMIT_BAL</th>\n",
              "      <th>SEX</th>\n",
              "      <th>EDUCATION</th>\n",
              "      <th>MARRIAGE</th>\n",
              "      <th>AGE</th>\n",
              "      <th>PAY_1</th>\n",
              "      <th>PAY_2</th>\n",
              "      <th>PAY_3</th>\n",
              "      <th>PAY_4</th>\n",
              "      <th>...</th>\n",
              "      <th>BILL_AMT4</th>\n",
              "      <th>BILL_AMT5</th>\n",
              "      <th>BILL_AMT6</th>\n",
              "      <th>PAY_AMT1</th>\n",
              "      <th>PAY_AMT2</th>\n",
              "      <th>PAY_AMT3</th>\n",
              "      <th>PAY_AMT4</th>\n",
              "      <th>PAY_AMT5</th>\n",
              "      <th>PAY_AMT6</th>\n",
              "      <th>default payment next month</th>\n",
              "    </tr>\n",
              "  </thead>\n",
              "  <tbody>\n",
              "    <tr>\n",
              "      <th>0</th>\n",
              "      <td>1</td>\n",
              "      <td>20000</td>\n",
              "      <td>2</td>\n",
              "      <td>2</td>\n",
              "      <td>1</td>\n",
              "      <td>24</td>\n",
              "      <td>2</td>\n",
              "      <td>2</td>\n",
              "      <td>-1</td>\n",
              "      <td>-1</td>\n",
              "      <td>...</td>\n",
              "      <td>0</td>\n",
              "      <td>0</td>\n",
              "      <td>0</td>\n",
              "      <td>0</td>\n",
              "      <td>689</td>\n",
              "      <td>0</td>\n",
              "      <td>0</td>\n",
              "      <td>0</td>\n",
              "      <td>0</td>\n",
              "      <td>1</td>\n",
              "    </tr>\n",
              "    <tr>\n",
              "      <th>1</th>\n",
              "      <td>2</td>\n",
              "      <td>120000</td>\n",
              "      <td>2</td>\n",
              "      <td>2</td>\n",
              "      <td>2</td>\n",
              "      <td>26</td>\n",
              "      <td>-1</td>\n",
              "      <td>2</td>\n",
              "      <td>0</td>\n",
              "      <td>0</td>\n",
              "      <td>...</td>\n",
              "      <td>3272</td>\n",
              "      <td>3455</td>\n",
              "      <td>3261</td>\n",
              "      <td>0</td>\n",
              "      <td>1000</td>\n",
              "      <td>1000</td>\n",
              "      <td>1000</td>\n",
              "      <td>0</td>\n",
              "      <td>2000</td>\n",
              "      <td>1</td>\n",
              "    </tr>\n",
              "    <tr>\n",
              "      <th>2</th>\n",
              "      <td>3</td>\n",
              "      <td>90000</td>\n",
              "      <td>2</td>\n",
              "      <td>2</td>\n",
              "      <td>2</td>\n",
              "      <td>34</td>\n",
              "      <td>0</td>\n",
              "      <td>0</td>\n",
              "      <td>0</td>\n",
              "      <td>0</td>\n",
              "      <td>...</td>\n",
              "      <td>14331</td>\n",
              "      <td>14948</td>\n",
              "      <td>15549</td>\n",
              "      <td>1518</td>\n",
              "      <td>1500</td>\n",
              "      <td>1000</td>\n",
              "      <td>1000</td>\n",
              "      <td>1000</td>\n",
              "      <td>5000</td>\n",
              "      <td>0</td>\n",
              "    </tr>\n",
              "    <tr>\n",
              "      <th>3</th>\n",
              "      <td>4</td>\n",
              "      <td>50000</td>\n",
              "      <td>2</td>\n",
              "      <td>2</td>\n",
              "      <td>1</td>\n",
              "      <td>37</td>\n",
              "      <td>0</td>\n",
              "      <td>0</td>\n",
              "      <td>0</td>\n",
              "      <td>0</td>\n",
              "      <td>...</td>\n",
              "      <td>28314</td>\n",
              "      <td>28959</td>\n",
              "      <td>29547</td>\n",
              "      <td>2000</td>\n",
              "      <td>2019</td>\n",
              "      <td>1200</td>\n",
              "      <td>1100</td>\n",
              "      <td>1069</td>\n",
              "      <td>1000</td>\n",
              "      <td>0</td>\n",
              "    </tr>\n",
              "    <tr>\n",
              "      <th>4</th>\n",
              "      <td>5</td>\n",
              "      <td>50000</td>\n",
              "      <td>1</td>\n",
              "      <td>2</td>\n",
              "      <td>1</td>\n",
              "      <td>57</td>\n",
              "      <td>-1</td>\n",
              "      <td>0</td>\n",
              "      <td>-1</td>\n",
              "      <td>0</td>\n",
              "      <td>...</td>\n",
              "      <td>20940</td>\n",
              "      <td>19146</td>\n",
              "      <td>19131</td>\n",
              "      <td>2000</td>\n",
              "      <td>36681</td>\n",
              "      <td>10000</td>\n",
              "      <td>9000</td>\n",
              "      <td>689</td>\n",
              "      <td>679</td>\n",
              "      <td>0</td>\n",
              "    </tr>\n",
              "  </tbody>\n",
              "</table>\n",
              "<p>5 rows × 25 columns</p>\n",
              "</div>\n",
              "    <div class=\"colab-df-buttons\">\n",
              "\n",
              "  <div class=\"colab-df-container\">\n",
              "    <button class=\"colab-df-convert\" onclick=\"convertToInteractive('df-8c5adbf7-bcc6-47f8-935a-c1693953e207')\"\n",
              "            title=\"Convert this dataframe to an interactive table.\"\n",
              "            style=\"display:none;\">\n",
              "\n",
              "  <svg xmlns=\"http://www.w3.org/2000/svg\" height=\"24px\" viewBox=\"0 -960 960 960\">\n",
              "    <path d=\"M120-120v-720h720v720H120Zm60-500h600v-160H180v160Zm220 220h160v-160H400v160Zm0 220h160v-160H400v160ZM180-400h160v-160H180v160Zm440 0h160v-160H620v160ZM180-180h160v-160H180v160Zm440 0h160v-160H620v160Z\"/>\n",
              "  </svg>\n",
              "    </button>\n",
              "\n",
              "  <style>\n",
              "    .colab-df-container {\n",
              "      display:flex;\n",
              "      gap: 12px;\n",
              "    }\n",
              "\n",
              "    .colab-df-convert {\n",
              "      background-color: #E8F0FE;\n",
              "      border: none;\n",
              "      border-radius: 50%;\n",
              "      cursor: pointer;\n",
              "      display: none;\n",
              "      fill: #1967D2;\n",
              "      height: 32px;\n",
              "      padding: 0 0 0 0;\n",
              "      width: 32px;\n",
              "    }\n",
              "\n",
              "    .colab-df-convert:hover {\n",
              "      background-color: #E2EBFA;\n",
              "      box-shadow: 0px 1px 2px rgba(60, 64, 67, 0.3), 0px 1px 3px 1px rgba(60, 64, 67, 0.15);\n",
              "      fill: #174EA6;\n",
              "    }\n",
              "\n",
              "    .colab-df-buttons div {\n",
              "      margin-bottom: 4px;\n",
              "    }\n",
              "\n",
              "    [theme=dark] .colab-df-convert {\n",
              "      background-color: #3B4455;\n",
              "      fill: #D2E3FC;\n",
              "    }\n",
              "\n",
              "    [theme=dark] .colab-df-convert:hover {\n",
              "      background-color: #434B5C;\n",
              "      box-shadow: 0px 1px 3px 1px rgba(0, 0, 0, 0.15);\n",
              "      filter: drop-shadow(0px 1px 2px rgba(0, 0, 0, 0.3));\n",
              "      fill: #FFFFFF;\n",
              "    }\n",
              "  </style>\n",
              "\n",
              "    <script>\n",
              "      const buttonEl =\n",
              "        document.querySelector('#df-8c5adbf7-bcc6-47f8-935a-c1693953e207 button.colab-df-convert');\n",
              "      buttonEl.style.display =\n",
              "        google.colab.kernel.accessAllowed ? 'block' : 'none';\n",
              "\n",
              "      async function convertToInteractive(key) {\n",
              "        const element = document.querySelector('#df-8c5adbf7-bcc6-47f8-935a-c1693953e207');\n",
              "        const dataTable =\n",
              "          await google.colab.kernel.invokeFunction('convertToInteractive',\n",
              "                                                    [key], {});\n",
              "        if (!dataTable) return;\n",
              "\n",
              "        const docLinkHtml = 'Like what you see? Visit the ' +\n",
              "          '<a target=\"_blank\" href=https://colab.research.google.com/notebooks/data_table.ipynb>data table notebook</a>'\n",
              "          + ' to learn more about interactive tables.';\n",
              "        element.innerHTML = '';\n",
              "        dataTable['output_type'] = 'display_data';\n",
              "        await google.colab.output.renderOutput(dataTable, element);\n",
              "        const docLink = document.createElement('div');\n",
              "        docLink.innerHTML = docLinkHtml;\n",
              "        element.appendChild(docLink);\n",
              "      }\n",
              "    </script>\n",
              "  </div>\n",
              "\n",
              "\n",
              "<div id=\"df-d54fd99d-c01e-4d2a-a8eb-55f40f099a4a\">\n",
              "  <button class=\"colab-df-quickchart\" onclick=\"quickchart('df-d54fd99d-c01e-4d2a-a8eb-55f40f099a4a')\"\n",
              "            title=\"Suggest charts\"\n",
              "            style=\"display:none;\">\n",
              "\n",
              "<svg xmlns=\"http://www.w3.org/2000/svg\" height=\"24px\"viewBox=\"0 0 24 24\"\n",
              "     width=\"24px\">\n",
              "    <g>\n",
              "        <path d=\"M19 3H5c-1.1 0-2 .9-2 2v14c0 1.1.9 2 2 2h14c1.1 0 2-.9 2-2V5c0-1.1-.9-2-2-2zM9 17H7v-7h2v7zm4 0h-2V7h2v10zm4 0h-2v-4h2v4z\"/>\n",
              "    </g>\n",
              "</svg>\n",
              "  </button>\n",
              "\n",
              "<style>\n",
              "  .colab-df-quickchart {\n",
              "      --bg-color: #E8F0FE;\n",
              "      --fill-color: #1967D2;\n",
              "      --hover-bg-color: #E2EBFA;\n",
              "      --hover-fill-color: #174EA6;\n",
              "      --disabled-fill-color: #AAA;\n",
              "      --disabled-bg-color: #DDD;\n",
              "  }\n",
              "\n",
              "  [theme=dark] .colab-df-quickchart {\n",
              "      --bg-color: #3B4455;\n",
              "      --fill-color: #D2E3FC;\n",
              "      --hover-bg-color: #434B5C;\n",
              "      --hover-fill-color: #FFFFFF;\n",
              "      --disabled-bg-color: #3B4455;\n",
              "      --disabled-fill-color: #666;\n",
              "  }\n",
              "\n",
              "  .colab-df-quickchart {\n",
              "    background-color: var(--bg-color);\n",
              "    border: none;\n",
              "    border-radius: 50%;\n",
              "    cursor: pointer;\n",
              "    display: none;\n",
              "    fill: var(--fill-color);\n",
              "    height: 32px;\n",
              "    padding: 0;\n",
              "    width: 32px;\n",
              "  }\n",
              "\n",
              "  .colab-df-quickchart:hover {\n",
              "    background-color: var(--hover-bg-color);\n",
              "    box-shadow: 0 1px 2px rgba(60, 64, 67, 0.3), 0 1px 3px 1px rgba(60, 64, 67, 0.15);\n",
              "    fill: var(--button-hover-fill-color);\n",
              "  }\n",
              "\n",
              "  .colab-df-quickchart-complete:disabled,\n",
              "  .colab-df-quickchart-complete:disabled:hover {\n",
              "    background-color: var(--disabled-bg-color);\n",
              "    fill: var(--disabled-fill-color);\n",
              "    box-shadow: none;\n",
              "  }\n",
              "\n",
              "  .colab-df-spinner {\n",
              "    border: 2px solid var(--fill-color);\n",
              "    border-color: transparent;\n",
              "    border-bottom-color: var(--fill-color);\n",
              "    animation:\n",
              "      spin 1s steps(1) infinite;\n",
              "  }\n",
              "\n",
              "  @keyframes spin {\n",
              "    0% {\n",
              "      border-color: transparent;\n",
              "      border-bottom-color: var(--fill-color);\n",
              "      border-left-color: var(--fill-color);\n",
              "    }\n",
              "    20% {\n",
              "      border-color: transparent;\n",
              "      border-left-color: var(--fill-color);\n",
              "      border-top-color: var(--fill-color);\n",
              "    }\n",
              "    30% {\n",
              "      border-color: transparent;\n",
              "      border-left-color: var(--fill-color);\n",
              "      border-top-color: var(--fill-color);\n",
              "      border-right-color: var(--fill-color);\n",
              "    }\n",
              "    40% {\n",
              "      border-color: transparent;\n",
              "      border-right-color: var(--fill-color);\n",
              "      border-top-color: var(--fill-color);\n",
              "    }\n",
              "    60% {\n",
              "      border-color: transparent;\n",
              "      border-right-color: var(--fill-color);\n",
              "    }\n",
              "    80% {\n",
              "      border-color: transparent;\n",
              "      border-right-color: var(--fill-color);\n",
              "      border-bottom-color: var(--fill-color);\n",
              "    }\n",
              "    90% {\n",
              "      border-color: transparent;\n",
              "      border-bottom-color: var(--fill-color);\n",
              "    }\n",
              "  }\n",
              "</style>\n",
              "\n",
              "  <script>\n",
              "    async function quickchart(key) {\n",
              "      const quickchartButtonEl =\n",
              "        document.querySelector('#' + key + ' button');\n",
              "      quickchartButtonEl.disabled = true;  // To prevent multiple clicks.\n",
              "      quickchartButtonEl.classList.add('colab-df-spinner');\n",
              "      try {\n",
              "        const charts = await google.colab.kernel.invokeFunction(\n",
              "            'suggestCharts', [key], {});\n",
              "      } catch (error) {\n",
              "        console.error('Error during call to suggestCharts:', error);\n",
              "      }\n",
              "      quickchartButtonEl.classList.remove('colab-df-spinner');\n",
              "      quickchartButtonEl.classList.add('colab-df-quickchart-complete');\n",
              "    }\n",
              "    (() => {\n",
              "      let quickchartButtonEl =\n",
              "        document.querySelector('#df-d54fd99d-c01e-4d2a-a8eb-55f40f099a4a button');\n",
              "      quickchartButtonEl.style.display =\n",
              "        google.colab.kernel.accessAllowed ? 'block' : 'none';\n",
              "    })();\n",
              "  </script>\n",
              "</div>\n",
              "    </div>\n",
              "  </div>\n"
            ]
          },
          "metadata": {},
          "execution_count": 46
        }
      ],
      "source": [
        "data = pd.read_csv('/content/credit_card_default.csv')\n",
        "data.head()"
      ]
    },
    {
      "cell_type": "code",
      "execution_count": 47,
      "metadata": {
        "id": "q1Q_pS20M_jv",
        "colab": {
          "base_uri": "https://localhost:8080/"
        },
        "outputId": "6d90921b-af40-43ce-f6c0-0d1c2732d311"
      },
      "outputs": [
        {
          "output_type": "execute_result",
          "data": {
            "text/plain": [
              "(30000, 25)"
            ]
          },
          "metadata": {},
          "execution_count": 47
        }
      ],
      "source": [
        "data.shape"
      ]
    },
    {
      "cell_type": "code",
      "execution_count": 48,
      "metadata": {
        "id": "NZr_915lNCeg",
        "colab": {
          "base_uri": "https://localhost:8080/"
        },
        "outputId": "a209ab08-f132-443f-fdf0-20eab9750276"
      },
      "outputs": [
        {
          "output_type": "stream",
          "name": "stdout",
          "text": [
            "<class 'pandas.core.frame.DataFrame'>\n",
            "RangeIndex: 30000 entries, 0 to 29999\n",
            "Data columns (total 25 columns):\n",
            " #   Column                      Non-Null Count  Dtype\n",
            "---  ------                      --------------  -----\n",
            " 0   ID                          30000 non-null  int64\n",
            " 1   LIMIT_BAL                   30000 non-null  int64\n",
            " 2   SEX                         30000 non-null  int64\n",
            " 3   EDUCATION                   30000 non-null  int64\n",
            " 4   MARRIAGE                    30000 non-null  int64\n",
            " 5   AGE                         30000 non-null  int64\n",
            " 6   PAY_1                       30000 non-null  int64\n",
            " 7   PAY_2                       30000 non-null  int64\n",
            " 8   PAY_3                       30000 non-null  int64\n",
            " 9   PAY_4                       30000 non-null  int64\n",
            " 10  PAY_5                       30000 non-null  int64\n",
            " 11  PAY_6                       30000 non-null  int64\n",
            " 12  BILL_AMT1                   30000 non-null  int64\n",
            " 13  BILL_AMT2                   30000 non-null  int64\n",
            " 14  BILL_AMT3                   30000 non-null  int64\n",
            " 15  BILL_AMT4                   30000 non-null  int64\n",
            " 16  BILL_AMT5                   30000 non-null  int64\n",
            " 17  BILL_AMT6                   30000 non-null  int64\n",
            " 18  PAY_AMT1                    30000 non-null  int64\n",
            " 19  PAY_AMT2                    30000 non-null  int64\n",
            " 20  PAY_AMT3                    30000 non-null  int64\n",
            " 21  PAY_AMT4                    30000 non-null  int64\n",
            " 22  PAY_AMT5                    30000 non-null  int64\n",
            " 23  PAY_AMT6                    30000 non-null  int64\n",
            " 24  default payment next month  30000 non-null  int64\n",
            "dtypes: int64(25)\n",
            "memory usage: 5.7 MB\n"
          ]
        }
      ],
      "source": [
        "data.info()"
      ]
    },
    {
      "cell_type": "code",
      "execution_count": 49,
      "metadata": {
        "id": "lHJd6q_dNHPM",
        "colab": {
          "base_uri": "https://localhost:8080/",
          "height": 384
        },
        "outputId": "846bdcf6-e273-4dcb-c042-5905fad3076f"
      },
      "outputs": [
        {
          "output_type": "execute_result",
          "data": {
            "text/plain": [
              "                 ID       LIMIT_BAL           SEX     EDUCATION      MARRIAGE  \\\n",
              "count  30000.000000    30000.000000  30000.000000  30000.000000  30000.000000   \n",
              "mean   15000.500000   167484.322667      1.603733      1.853133      1.553667   \n",
              "std     8660.398374   129747.661567      0.489129      0.790349      0.518326   \n",
              "min        1.000000    10000.000000      1.000000      0.000000      1.000000   \n",
              "25%     7500.750000    50000.000000      1.000000      1.000000      1.000000   \n",
              "50%    15000.500000   140000.000000      2.000000      2.000000      2.000000   \n",
              "75%    22500.250000   240000.000000      2.000000      2.000000      2.000000   \n",
              "max    30000.000000  1000000.000000      2.000000      6.000000      3.000000   \n",
              "\n",
              "                AGE         PAY_1         PAY_2         PAY_3         PAY_4  \\\n",
              "count  30000.000000  30000.000000  30000.000000  30000.000000  30000.000000   \n",
              "mean      35.485500     -0.016700     -0.133767     -0.166200     -0.220667   \n",
              "std        9.217904      1.123802      1.197186      1.196868      1.169139   \n",
              "min       21.000000     -2.000000     -2.000000     -2.000000     -2.000000   \n",
              "25%       28.000000     -1.000000     -1.000000     -1.000000     -1.000000   \n",
              "50%       34.000000      0.000000      0.000000      0.000000      0.000000   \n",
              "75%       41.000000      0.000000      0.000000      0.000000      0.000000   \n",
              "max       79.000000      8.000000      8.000000      8.000000      8.000000   \n",
              "\n",
              "       ...      BILL_AMT4      BILL_AMT5      BILL_AMT6       PAY_AMT1  \\\n",
              "count  ...   30000.000000   30000.000000   30000.000000   30000.000000   \n",
              "mean   ...   43262.948967   40311.400967   38871.760400    5663.580500   \n",
              "std    ...   64332.856134   60797.155770   59554.107537   16563.280354   \n",
              "min    ... -170000.000000  -81334.000000 -339603.000000       0.000000   \n",
              "25%    ...    2326.750000    1763.000000    1256.000000    1000.000000   \n",
              "50%    ...   19052.000000   18104.500000   17071.000000    2100.000000   \n",
              "75%    ...   54506.000000   50190.500000   49198.250000    5006.000000   \n",
              "max    ...  891586.000000  927171.000000  961664.000000  873552.000000   \n",
              "\n",
              "           PAY_AMT2      PAY_AMT3       PAY_AMT4       PAY_AMT5  \\\n",
              "count  3.000000e+04   30000.00000   30000.000000   30000.000000   \n",
              "mean   5.921163e+03    5225.68150    4826.076867    4799.387633   \n",
              "std    2.304087e+04   17606.96147   15666.159744   15278.305679   \n",
              "min    0.000000e+00       0.00000       0.000000       0.000000   \n",
              "25%    8.330000e+02     390.00000     296.000000     252.500000   \n",
              "50%    2.009000e+03    1800.00000    1500.000000    1500.000000   \n",
              "75%    5.000000e+03    4505.00000    4013.250000    4031.500000   \n",
              "max    1.684259e+06  896040.00000  621000.000000  426529.000000   \n",
              "\n",
              "            PAY_AMT6  default payment next month  \n",
              "count   30000.000000                30000.000000  \n",
              "mean     5215.502567                    0.221200  \n",
              "std     17777.465775                    0.415062  \n",
              "min         0.000000                    0.000000  \n",
              "25%       117.750000                    0.000000  \n",
              "50%      1500.000000                    0.000000  \n",
              "75%      4000.000000                    0.000000  \n",
              "max    528666.000000                    1.000000  \n",
              "\n",
              "[8 rows x 25 columns]"
            ],
            "text/html": [
              "\n",
              "  <div id=\"df-a26f49bd-ec5b-44af-bb09-d7daa9de2b69\" class=\"colab-df-container\">\n",
              "    <div>\n",
              "<style scoped>\n",
              "    .dataframe tbody tr th:only-of-type {\n",
              "        vertical-align: middle;\n",
              "    }\n",
              "\n",
              "    .dataframe tbody tr th {\n",
              "        vertical-align: top;\n",
              "    }\n",
              "\n",
              "    .dataframe thead th {\n",
              "        text-align: right;\n",
              "    }\n",
              "</style>\n",
              "<table border=\"1\" class=\"dataframe\">\n",
              "  <thead>\n",
              "    <tr style=\"text-align: right;\">\n",
              "      <th></th>\n",
              "      <th>ID</th>\n",
              "      <th>LIMIT_BAL</th>\n",
              "      <th>SEX</th>\n",
              "      <th>EDUCATION</th>\n",
              "      <th>MARRIAGE</th>\n",
              "      <th>AGE</th>\n",
              "      <th>PAY_1</th>\n",
              "      <th>PAY_2</th>\n",
              "      <th>PAY_3</th>\n",
              "      <th>PAY_4</th>\n",
              "      <th>...</th>\n",
              "      <th>BILL_AMT4</th>\n",
              "      <th>BILL_AMT5</th>\n",
              "      <th>BILL_AMT6</th>\n",
              "      <th>PAY_AMT1</th>\n",
              "      <th>PAY_AMT2</th>\n",
              "      <th>PAY_AMT3</th>\n",
              "      <th>PAY_AMT4</th>\n",
              "      <th>PAY_AMT5</th>\n",
              "      <th>PAY_AMT6</th>\n",
              "      <th>default payment next month</th>\n",
              "    </tr>\n",
              "  </thead>\n",
              "  <tbody>\n",
              "    <tr>\n",
              "      <th>count</th>\n",
              "      <td>30000.000000</td>\n",
              "      <td>30000.000000</td>\n",
              "      <td>30000.000000</td>\n",
              "      <td>30000.000000</td>\n",
              "      <td>30000.000000</td>\n",
              "      <td>30000.000000</td>\n",
              "      <td>30000.000000</td>\n",
              "      <td>30000.000000</td>\n",
              "      <td>30000.000000</td>\n",
              "      <td>30000.000000</td>\n",
              "      <td>...</td>\n",
              "      <td>30000.000000</td>\n",
              "      <td>30000.000000</td>\n",
              "      <td>30000.000000</td>\n",
              "      <td>30000.000000</td>\n",
              "      <td>3.000000e+04</td>\n",
              "      <td>30000.00000</td>\n",
              "      <td>30000.000000</td>\n",
              "      <td>30000.000000</td>\n",
              "      <td>30000.000000</td>\n",
              "      <td>30000.000000</td>\n",
              "    </tr>\n",
              "    <tr>\n",
              "      <th>mean</th>\n",
              "      <td>15000.500000</td>\n",
              "      <td>167484.322667</td>\n",
              "      <td>1.603733</td>\n",
              "      <td>1.853133</td>\n",
              "      <td>1.553667</td>\n",
              "      <td>35.485500</td>\n",
              "      <td>-0.016700</td>\n",
              "      <td>-0.133767</td>\n",
              "      <td>-0.166200</td>\n",
              "      <td>-0.220667</td>\n",
              "      <td>...</td>\n",
              "      <td>43262.948967</td>\n",
              "      <td>40311.400967</td>\n",
              "      <td>38871.760400</td>\n",
              "      <td>5663.580500</td>\n",
              "      <td>5.921163e+03</td>\n",
              "      <td>5225.68150</td>\n",
              "      <td>4826.076867</td>\n",
              "      <td>4799.387633</td>\n",
              "      <td>5215.502567</td>\n",
              "      <td>0.221200</td>\n",
              "    </tr>\n",
              "    <tr>\n",
              "      <th>std</th>\n",
              "      <td>8660.398374</td>\n",
              "      <td>129747.661567</td>\n",
              "      <td>0.489129</td>\n",
              "      <td>0.790349</td>\n",
              "      <td>0.518326</td>\n",
              "      <td>9.217904</td>\n",
              "      <td>1.123802</td>\n",
              "      <td>1.197186</td>\n",
              "      <td>1.196868</td>\n",
              "      <td>1.169139</td>\n",
              "      <td>...</td>\n",
              "      <td>64332.856134</td>\n",
              "      <td>60797.155770</td>\n",
              "      <td>59554.107537</td>\n",
              "      <td>16563.280354</td>\n",
              "      <td>2.304087e+04</td>\n",
              "      <td>17606.96147</td>\n",
              "      <td>15666.159744</td>\n",
              "      <td>15278.305679</td>\n",
              "      <td>17777.465775</td>\n",
              "      <td>0.415062</td>\n",
              "    </tr>\n",
              "    <tr>\n",
              "      <th>min</th>\n",
              "      <td>1.000000</td>\n",
              "      <td>10000.000000</td>\n",
              "      <td>1.000000</td>\n",
              "      <td>0.000000</td>\n",
              "      <td>1.000000</td>\n",
              "      <td>21.000000</td>\n",
              "      <td>-2.000000</td>\n",
              "      <td>-2.000000</td>\n",
              "      <td>-2.000000</td>\n",
              "      <td>-2.000000</td>\n",
              "      <td>...</td>\n",
              "      <td>-170000.000000</td>\n",
              "      <td>-81334.000000</td>\n",
              "      <td>-339603.000000</td>\n",
              "      <td>0.000000</td>\n",
              "      <td>0.000000e+00</td>\n",
              "      <td>0.00000</td>\n",
              "      <td>0.000000</td>\n",
              "      <td>0.000000</td>\n",
              "      <td>0.000000</td>\n",
              "      <td>0.000000</td>\n",
              "    </tr>\n",
              "    <tr>\n",
              "      <th>25%</th>\n",
              "      <td>7500.750000</td>\n",
              "      <td>50000.000000</td>\n",
              "      <td>1.000000</td>\n",
              "      <td>1.000000</td>\n",
              "      <td>1.000000</td>\n",
              "      <td>28.000000</td>\n",
              "      <td>-1.000000</td>\n",
              "      <td>-1.000000</td>\n",
              "      <td>-1.000000</td>\n",
              "      <td>-1.000000</td>\n",
              "      <td>...</td>\n",
              "      <td>2326.750000</td>\n",
              "      <td>1763.000000</td>\n",
              "      <td>1256.000000</td>\n",
              "      <td>1000.000000</td>\n",
              "      <td>8.330000e+02</td>\n",
              "      <td>390.00000</td>\n",
              "      <td>296.000000</td>\n",
              "      <td>252.500000</td>\n",
              "      <td>117.750000</td>\n",
              "      <td>0.000000</td>\n",
              "    </tr>\n",
              "    <tr>\n",
              "      <th>50%</th>\n",
              "      <td>15000.500000</td>\n",
              "      <td>140000.000000</td>\n",
              "      <td>2.000000</td>\n",
              "      <td>2.000000</td>\n",
              "      <td>2.000000</td>\n",
              "      <td>34.000000</td>\n",
              "      <td>0.000000</td>\n",
              "      <td>0.000000</td>\n",
              "      <td>0.000000</td>\n",
              "      <td>0.000000</td>\n",
              "      <td>...</td>\n",
              "      <td>19052.000000</td>\n",
              "      <td>18104.500000</td>\n",
              "      <td>17071.000000</td>\n",
              "      <td>2100.000000</td>\n",
              "      <td>2.009000e+03</td>\n",
              "      <td>1800.00000</td>\n",
              "      <td>1500.000000</td>\n",
              "      <td>1500.000000</td>\n",
              "      <td>1500.000000</td>\n",
              "      <td>0.000000</td>\n",
              "    </tr>\n",
              "    <tr>\n",
              "      <th>75%</th>\n",
              "      <td>22500.250000</td>\n",
              "      <td>240000.000000</td>\n",
              "      <td>2.000000</td>\n",
              "      <td>2.000000</td>\n",
              "      <td>2.000000</td>\n",
              "      <td>41.000000</td>\n",
              "      <td>0.000000</td>\n",
              "      <td>0.000000</td>\n",
              "      <td>0.000000</td>\n",
              "      <td>0.000000</td>\n",
              "      <td>...</td>\n",
              "      <td>54506.000000</td>\n",
              "      <td>50190.500000</td>\n",
              "      <td>49198.250000</td>\n",
              "      <td>5006.000000</td>\n",
              "      <td>5.000000e+03</td>\n",
              "      <td>4505.00000</td>\n",
              "      <td>4013.250000</td>\n",
              "      <td>4031.500000</td>\n",
              "      <td>4000.000000</td>\n",
              "      <td>0.000000</td>\n",
              "    </tr>\n",
              "    <tr>\n",
              "      <th>max</th>\n",
              "      <td>30000.000000</td>\n",
              "      <td>1000000.000000</td>\n",
              "      <td>2.000000</td>\n",
              "      <td>6.000000</td>\n",
              "      <td>3.000000</td>\n",
              "      <td>79.000000</td>\n",
              "      <td>8.000000</td>\n",
              "      <td>8.000000</td>\n",
              "      <td>8.000000</td>\n",
              "      <td>8.000000</td>\n",
              "      <td>...</td>\n",
              "      <td>891586.000000</td>\n",
              "      <td>927171.000000</td>\n",
              "      <td>961664.000000</td>\n",
              "      <td>873552.000000</td>\n",
              "      <td>1.684259e+06</td>\n",
              "      <td>896040.00000</td>\n",
              "      <td>621000.000000</td>\n",
              "      <td>426529.000000</td>\n",
              "      <td>528666.000000</td>\n",
              "      <td>1.000000</td>\n",
              "    </tr>\n",
              "  </tbody>\n",
              "</table>\n",
              "<p>8 rows × 25 columns</p>\n",
              "</div>\n",
              "    <div class=\"colab-df-buttons\">\n",
              "\n",
              "  <div class=\"colab-df-container\">\n",
              "    <button class=\"colab-df-convert\" onclick=\"convertToInteractive('df-a26f49bd-ec5b-44af-bb09-d7daa9de2b69')\"\n",
              "            title=\"Convert this dataframe to an interactive table.\"\n",
              "            style=\"display:none;\">\n",
              "\n",
              "  <svg xmlns=\"http://www.w3.org/2000/svg\" height=\"24px\" viewBox=\"0 -960 960 960\">\n",
              "    <path d=\"M120-120v-720h720v720H120Zm60-500h600v-160H180v160Zm220 220h160v-160H400v160Zm0 220h160v-160H400v160ZM180-400h160v-160H180v160Zm440 0h160v-160H620v160ZM180-180h160v-160H180v160Zm440 0h160v-160H620v160Z\"/>\n",
              "  </svg>\n",
              "    </button>\n",
              "\n",
              "  <style>\n",
              "    .colab-df-container {\n",
              "      display:flex;\n",
              "      gap: 12px;\n",
              "    }\n",
              "\n",
              "    .colab-df-convert {\n",
              "      background-color: #E8F0FE;\n",
              "      border: none;\n",
              "      border-radius: 50%;\n",
              "      cursor: pointer;\n",
              "      display: none;\n",
              "      fill: #1967D2;\n",
              "      height: 32px;\n",
              "      padding: 0 0 0 0;\n",
              "      width: 32px;\n",
              "    }\n",
              "\n",
              "    .colab-df-convert:hover {\n",
              "      background-color: #E2EBFA;\n",
              "      box-shadow: 0px 1px 2px rgba(60, 64, 67, 0.3), 0px 1px 3px 1px rgba(60, 64, 67, 0.15);\n",
              "      fill: #174EA6;\n",
              "    }\n",
              "\n",
              "    .colab-df-buttons div {\n",
              "      margin-bottom: 4px;\n",
              "    }\n",
              "\n",
              "    [theme=dark] .colab-df-convert {\n",
              "      background-color: #3B4455;\n",
              "      fill: #D2E3FC;\n",
              "    }\n",
              "\n",
              "    [theme=dark] .colab-df-convert:hover {\n",
              "      background-color: #434B5C;\n",
              "      box-shadow: 0px 1px 3px 1px rgba(0, 0, 0, 0.15);\n",
              "      filter: drop-shadow(0px 1px 2px rgba(0, 0, 0, 0.3));\n",
              "      fill: #FFFFFF;\n",
              "    }\n",
              "  </style>\n",
              "\n",
              "    <script>\n",
              "      const buttonEl =\n",
              "        document.querySelector('#df-a26f49bd-ec5b-44af-bb09-d7daa9de2b69 button.colab-df-convert');\n",
              "      buttonEl.style.display =\n",
              "        google.colab.kernel.accessAllowed ? 'block' : 'none';\n",
              "\n",
              "      async function convertToInteractive(key) {\n",
              "        const element = document.querySelector('#df-a26f49bd-ec5b-44af-bb09-d7daa9de2b69');\n",
              "        const dataTable =\n",
              "          await google.colab.kernel.invokeFunction('convertToInteractive',\n",
              "                                                    [key], {});\n",
              "        if (!dataTable) return;\n",
              "\n",
              "        const docLinkHtml = 'Like what you see? Visit the ' +\n",
              "          '<a target=\"_blank\" href=https://colab.research.google.com/notebooks/data_table.ipynb>data table notebook</a>'\n",
              "          + ' to learn more about interactive tables.';\n",
              "        element.innerHTML = '';\n",
              "        dataTable['output_type'] = 'display_data';\n",
              "        await google.colab.output.renderOutput(dataTable, element);\n",
              "        const docLink = document.createElement('div');\n",
              "        docLink.innerHTML = docLinkHtml;\n",
              "        element.appendChild(docLink);\n",
              "      }\n",
              "    </script>\n",
              "  </div>\n",
              "\n",
              "\n",
              "<div id=\"df-88295209-f012-4285-b430-f51f993cee12\">\n",
              "  <button class=\"colab-df-quickchart\" onclick=\"quickchart('df-88295209-f012-4285-b430-f51f993cee12')\"\n",
              "            title=\"Suggest charts\"\n",
              "            style=\"display:none;\">\n",
              "\n",
              "<svg xmlns=\"http://www.w3.org/2000/svg\" height=\"24px\"viewBox=\"0 0 24 24\"\n",
              "     width=\"24px\">\n",
              "    <g>\n",
              "        <path d=\"M19 3H5c-1.1 0-2 .9-2 2v14c0 1.1.9 2 2 2h14c1.1 0 2-.9 2-2V5c0-1.1-.9-2-2-2zM9 17H7v-7h2v7zm4 0h-2V7h2v10zm4 0h-2v-4h2v4z\"/>\n",
              "    </g>\n",
              "</svg>\n",
              "  </button>\n",
              "\n",
              "<style>\n",
              "  .colab-df-quickchart {\n",
              "      --bg-color: #E8F0FE;\n",
              "      --fill-color: #1967D2;\n",
              "      --hover-bg-color: #E2EBFA;\n",
              "      --hover-fill-color: #174EA6;\n",
              "      --disabled-fill-color: #AAA;\n",
              "      --disabled-bg-color: #DDD;\n",
              "  }\n",
              "\n",
              "  [theme=dark] .colab-df-quickchart {\n",
              "      --bg-color: #3B4455;\n",
              "      --fill-color: #D2E3FC;\n",
              "      --hover-bg-color: #434B5C;\n",
              "      --hover-fill-color: #FFFFFF;\n",
              "      --disabled-bg-color: #3B4455;\n",
              "      --disabled-fill-color: #666;\n",
              "  }\n",
              "\n",
              "  .colab-df-quickchart {\n",
              "    background-color: var(--bg-color);\n",
              "    border: none;\n",
              "    border-radius: 50%;\n",
              "    cursor: pointer;\n",
              "    display: none;\n",
              "    fill: var(--fill-color);\n",
              "    height: 32px;\n",
              "    padding: 0;\n",
              "    width: 32px;\n",
              "  }\n",
              "\n",
              "  .colab-df-quickchart:hover {\n",
              "    background-color: var(--hover-bg-color);\n",
              "    box-shadow: 0 1px 2px rgba(60, 64, 67, 0.3), 0 1px 3px 1px rgba(60, 64, 67, 0.15);\n",
              "    fill: var(--button-hover-fill-color);\n",
              "  }\n",
              "\n",
              "  .colab-df-quickchart-complete:disabled,\n",
              "  .colab-df-quickchart-complete:disabled:hover {\n",
              "    background-color: var(--disabled-bg-color);\n",
              "    fill: var(--disabled-fill-color);\n",
              "    box-shadow: none;\n",
              "  }\n",
              "\n",
              "  .colab-df-spinner {\n",
              "    border: 2px solid var(--fill-color);\n",
              "    border-color: transparent;\n",
              "    border-bottom-color: var(--fill-color);\n",
              "    animation:\n",
              "      spin 1s steps(1) infinite;\n",
              "  }\n",
              "\n",
              "  @keyframes spin {\n",
              "    0% {\n",
              "      border-color: transparent;\n",
              "      border-bottom-color: var(--fill-color);\n",
              "      border-left-color: var(--fill-color);\n",
              "    }\n",
              "    20% {\n",
              "      border-color: transparent;\n",
              "      border-left-color: var(--fill-color);\n",
              "      border-top-color: var(--fill-color);\n",
              "    }\n",
              "    30% {\n",
              "      border-color: transparent;\n",
              "      border-left-color: var(--fill-color);\n",
              "      border-top-color: var(--fill-color);\n",
              "      border-right-color: var(--fill-color);\n",
              "    }\n",
              "    40% {\n",
              "      border-color: transparent;\n",
              "      border-right-color: var(--fill-color);\n",
              "      border-top-color: var(--fill-color);\n",
              "    }\n",
              "    60% {\n",
              "      border-color: transparent;\n",
              "      border-right-color: var(--fill-color);\n",
              "    }\n",
              "    80% {\n",
              "      border-color: transparent;\n",
              "      border-right-color: var(--fill-color);\n",
              "      border-bottom-color: var(--fill-color);\n",
              "    }\n",
              "    90% {\n",
              "      border-color: transparent;\n",
              "      border-bottom-color: var(--fill-color);\n",
              "    }\n",
              "  }\n",
              "</style>\n",
              "\n",
              "  <script>\n",
              "    async function quickchart(key) {\n",
              "      const quickchartButtonEl =\n",
              "        document.querySelector('#' + key + ' button');\n",
              "      quickchartButtonEl.disabled = true;  // To prevent multiple clicks.\n",
              "      quickchartButtonEl.classList.add('colab-df-spinner');\n",
              "      try {\n",
              "        const charts = await google.colab.kernel.invokeFunction(\n",
              "            'suggestCharts', [key], {});\n",
              "      } catch (error) {\n",
              "        console.error('Error during call to suggestCharts:', error);\n",
              "      }\n",
              "      quickchartButtonEl.classList.remove('colab-df-spinner');\n",
              "      quickchartButtonEl.classList.add('colab-df-quickchart-complete');\n",
              "    }\n",
              "    (() => {\n",
              "      let quickchartButtonEl =\n",
              "        document.querySelector('#df-88295209-f012-4285-b430-f51f993cee12 button');\n",
              "      quickchartButtonEl.style.display =\n",
              "        google.colab.kernel.accessAllowed ? 'block' : 'none';\n",
              "    })();\n",
              "  </script>\n",
              "</div>\n",
              "    </div>\n",
              "  </div>\n"
            ]
          },
          "metadata": {},
          "execution_count": 49
        }
      ],
      "source": [
        "data.describe()"
      ]
    },
    {
      "cell_type": "code",
      "execution_count": 50,
      "metadata": {
        "id": "K0yr4LN2NIoO",
        "colab": {
          "base_uri": "https://localhost:8080/"
        },
        "outputId": "75ff1e7b-f93e-48aa-c3fa-a94acfb614d7"
      },
      "outputs": [
        {
          "output_type": "execute_result",
          "data": {
            "text/plain": [
              "2    15964\n",
              "1    13713\n",
              "3      323\n",
              "Name: MARRIAGE, dtype: int64"
            ]
          },
          "metadata": {},
          "execution_count": 50
        }
      ],
      "source": [
        "data['MARRIAGE'].value_counts()"
      ]
    },
    {
      "cell_type": "code",
      "execution_count": 51,
      "metadata": {
        "id": "6F9McKzNNcGR"
      },
      "outputs": [],
      "source": [
        "# Pre-Processing\n",
        "\n",
        "# Handling Missing Values (Nan)"
      ]
    },
    {
      "cell_type": "code",
      "execution_count": 52,
      "metadata": {
        "id": "s3cnRiyCQX5e",
        "colab": {
          "base_uri": "https://localhost:8080/"
        },
        "outputId": "c69fdd09-7a6b-4500-f62c-7aad398a9832"
      },
      "outputs": [
        {
          "output_type": "execute_result",
          "data": {
            "text/plain": [
              "ID                            0\n",
              "LIMIT_BAL                     0\n",
              "SEX                           0\n",
              "EDUCATION                     0\n",
              "MARRIAGE                      0\n",
              "AGE                           0\n",
              "PAY_1                         0\n",
              "PAY_2                         0\n",
              "PAY_3                         0\n",
              "PAY_4                         0\n",
              "PAY_5                         0\n",
              "PAY_6                         0\n",
              "BILL_AMT1                     0\n",
              "BILL_AMT2                     0\n",
              "BILL_AMT3                     0\n",
              "BILL_AMT4                     0\n",
              "BILL_AMT5                     0\n",
              "BILL_AMT6                     0\n",
              "PAY_AMT1                      0\n",
              "PAY_AMT2                      0\n",
              "PAY_AMT3                      0\n",
              "PAY_AMT4                      0\n",
              "PAY_AMT5                      0\n",
              "PAY_AMT6                      0\n",
              "default payment next month    0\n",
              "dtype: int64"
            ]
          },
          "metadata": {},
          "execution_count": 52
        }
      ],
      "source": [
        "data.isna().sum()"
      ]
    },
    {
      "cell_type": "code",
      "execution_count": 53,
      "metadata": {
        "id": "C7ErolgfQak6"
      },
      "outputs": [],
      "source": [
        "# Since there are no missing values in any of the columns, we don't have to fill in missing values(Nan)"
      ]
    },
    {
      "cell_type": "code",
      "execution_count": 54,
      "metadata": {
        "id": "K3HqRlvgQy2C"
      },
      "outputs": [],
      "source": [
        "# Now we have handled all missing values and move onto handling outliers"
      ]
    },
    {
      "cell_type": "code",
      "execution_count": 55,
      "metadata": {
        "id": "4m91DfgSQm5U"
      },
      "outputs": [],
      "source": [
        "# Outliers"
      ]
    },
    {
      "cell_type": "code",
      "execution_count": 56,
      "metadata": {
        "id": "MyjmjNNyRWYR",
        "colab": {
          "base_uri": "https://localhost:8080/"
        },
        "outputId": "510e365e-e260-4d1a-864a-69e109c5be31"
      },
      "outputs": [
        {
          "output_type": "stream",
          "name": "stdout",
          "text": [
            "SEX values: \n",
            " 2    18112\n",
            "1    11888\n",
            "Name: SEX, dtype: int64\n",
            "Education values: \n",
            " 2    14030\n",
            "1    10585\n",
            "3     4917\n",
            "5      280\n",
            "4      123\n",
            "6       51\n",
            "0       14\n",
            "Name: EDUCATION, dtype: int64\n",
            "Marriage values: \n",
            " 2    15964\n",
            "1    13713\n",
            "3      323\n",
            "Name: MARRIAGE, dtype: int64\n",
            "Pay 1: \n",
            "  0    14737\n",
            "-1     5686\n",
            " 1     3688\n",
            "-2     2759\n",
            " 2     2667\n",
            " 3      322\n",
            " 4       76\n",
            " 5       26\n",
            " 8       19\n",
            " 6       11\n",
            " 7        9\n",
            "Name: PAY_1, dtype: int64\n",
            "Pay 2: \n",
            "  0    15730\n",
            "-1     6050\n",
            " 2     3927\n",
            "-2     3782\n",
            " 3      326\n",
            " 4       99\n",
            " 1       28\n",
            " 5       25\n",
            " 7       20\n",
            " 6       12\n",
            " 8        1\n",
            "Name: PAY_2, dtype: int64\n",
            "Pay 3: \n",
            "  0    15764\n",
            "-1     5938\n",
            "-2     4085\n",
            " 2     3819\n",
            " 3      240\n",
            " 4       76\n",
            " 7       27\n",
            " 6       23\n",
            " 5       21\n",
            " 1        4\n",
            " 8        3\n",
            "Name: PAY_3, dtype: int64\n",
            "Pay 4: \n",
            "  0    16455\n",
            "-1     5687\n",
            "-2     4348\n",
            " 2     3159\n",
            " 3      180\n",
            " 4       69\n",
            " 7       58\n",
            " 5       35\n",
            " 6        5\n",
            " 1        2\n",
            " 8        2\n",
            "Name: PAY_4, dtype: int64\n",
            "Pay 5: \n",
            "  0    16947\n",
            "-1     5539\n",
            "-2     4546\n",
            " 2     2626\n",
            " 3      178\n",
            " 4       84\n",
            " 7       58\n",
            " 5       17\n",
            " 6        4\n",
            " 8        1\n",
            "Name: PAY_5, dtype: int64\n",
            "Pay 6: \n",
            "  0    16286\n",
            "-1     5740\n",
            "-2     4895\n",
            " 2     2766\n",
            " 3      184\n",
            " 4       49\n",
            " 7       46\n",
            " 6       19\n",
            " 5       13\n",
            " 8        2\n",
            "Name: PAY_6, dtype: int64\n"
          ]
        }
      ],
      "source": [
        "s = data['SEX'].value_counts()   # To see the number of unique values in these columns\n",
        "e = data['EDUCATION'].value_counts()\n",
        "m = data['MARRIAGE'].value_counts()\n",
        "p1 = data['PAY_1'].value_counts()\n",
        "p2 = data['PAY_2'].value_counts()\n",
        "p3 = data['PAY_3'].value_counts()\n",
        "p4 = data['PAY_4'].value_counts()\n",
        "p5 = data['PAY_5'].value_counts()\n",
        "p6 = data['PAY_6'].value_counts()\n",
        "print('SEX values: \\n', s)\n",
        "print('Education values: \\n', e)\n",
        "print('Marriage values: \\n', m)\n",
        "print('Pay 1: \\n', p1)\n",
        "print('Pay 2: \\n', p2)\n",
        "print('Pay 3: \\n', p3)\n",
        "print('Pay 4: \\n', p4)\n",
        "print('Pay 5: \\n', p5)\n",
        "print('Pay 6: \\n', p6)"
      ]
    },
    {
      "cell_type": "code",
      "execution_count": 57,
      "metadata": {
        "id": "IwnKKfhyWzJi"
      },
      "outputs": [],
      "source": [
        "# The columns ['SEX','EDUCATION','MARRIAGE','PAY_1','PAY_2','PAY_3','PAY_4','PAY_5','PAY_6']  don't need to be checked for outliers since there are only few unique values"
      ]
    },
    {
      "cell_type": "code",
      "execution_count": 58,
      "metadata": {
        "id": "9RrrZmt7Qrle",
        "colab": {
          "base_uri": "https://localhost:8080/",
          "height": 1000
        },
        "outputId": "0f1cdc78-9e6a-4c3f-8f26-8179174ac978"
      },
      "outputs": [
        {
          "output_type": "execute_result",
          "data": {
            "text/plain": [
              "Text(0.5, 1.0, 'PAY_AMT6')"
            ]
          },
          "metadata": {},
          "execution_count": 58
        },
        {
          "output_type": "display_data",
          "data": {
            "text/plain": [
              "<Figure size 2000x2000 with 14 Axes>"
            ],
            "image/png": "[encoded data removed]"
          },
          "metadata": {}
        }
      ],
      "source": [
        "plt.figure(figsize=(20,20))\n",
        "plt.subplot(5,3,1)\n",
        "plt.boxplot(data['LIMIT_BAL'])\n",
        "plt.title('Limit balance', fontsize=15)\n",
        "\n",
        "plt.subplot(5,3,2)\n",
        "plt.boxplot(data['AGE'])\n",
        "plt.title('Age', fontsize=15)\n",
        "\n",
        "plt.subplot(5,3,3)\n",
        "plt.boxplot(data['BILL_AMT1'])\n",
        "plt.title('BILL_AMT1', fontsize=15)\n",
        "\n",
        "plt.subplot(5,3,4)\n",
        "plt.boxplot(data['BILL_AMT2'])\n",
        "plt.title('BILL_AMT2', fontsize=15)\n",
        "\n",
        "plt.subplot(5,3,5)\n",
        "plt.boxplot(data['BILL_AMT3'])\n",
        "plt.title('BILL_AMT3', fontsize=15)\n",
        "\n",
        "plt.subplot(5,3,6)\n",
        "plt.boxplot(data['BILL_AMT4'])\n",
        "plt.title('BILL_AMT4', fontsize=15)\n",
        "\n",
        "plt.subplot(5,3,7)\n",
        "plt.boxplot(data['BILL_AMT5'])\n",
        "plt.title('BILL_AMT5', fontsize=15)\n",
        "\n",
        "plt.subplot(5,3,8)\n",
        "plt.boxplot(data['BILL_AMT6'])\n",
        "plt.title('BILL_AMT6', fontsize=15)\n",
        "\n",
        "plt.subplot(5,3,9)\n",
        "plt.boxplot(data['PAY_AMT1'])\n",
        "plt.title('PAY_AMT1', fontsize=15)\n",
        "\n",
        "plt.subplot(5,3,10)\n",
        "plt.boxplot(data['PAY_AMT2'])\n",
        "plt.title('PAY_AMT2', fontsize=15)\n",
        "\n",
        "plt.subplot(5,3,11)\n",
        "plt.boxplot(data['PAY_AMT3'])\n",
        "plt.title('PAY_AMT3', fontsize=15)\n",
        "\n",
        "plt.subplot(5,3,12)\n",
        "plt.boxplot(data['PAY_AMT4'])\n",
        "plt.title('PAY_AMT4', fontsize=15)\n",
        "\n",
        "plt.subplot(5,3,13)\n",
        "plt.boxplot(data['PAY_AMT5'])\n",
        "plt.title('PAY_AMT5', fontsize=15)\n",
        "\n",
        "plt.subplot(5,3,14)\n",
        "plt.boxplot(data['PAY_AMT6'])\n",
        "plt.title('PAY_AMT6', fontsize=15)"
      ]
    },
    {
      "cell_type": "code",
      "execution_count": 59,
      "metadata": {
        "id": "sCP4zD5vZSC7"
      },
      "outputs": [],
      "source": [
        "# Since all 14 columns have outliers, we shall be using IQR method to either floor or cap the values"
      ]
    },
    {
      "cell_type": "code",
      "execution_count": 60,
      "metadata": {
        "id": "hsyVYiy1cQ2j"
      },
      "outputs": [],
      "source": [
        "# LIMIT_BAL\n",
        "Q1 = data['LIMIT_BAL'].quantile(0.25)\n",
        "Q2 = data['LIMIT_BAL'].quantile(0.50)\n",
        "Q3 = data['LIMIT_BAL'].quantile(0.75)\n",
        "\n",
        "IQR = Q3-Q1\n",
        "low = Q1 - (1.5*IQR)\n",
        "high = Q3 + (1.5*IQR)\n",
        "\n",
        "data['LIMIT_BAL'] = np.where(data['LIMIT_BAL'] >= high, high, np.where(data['LIMIT_BAL'] <= low, low, data['LIMIT_BAL']))"
      ]
    },
    {
      "cell_type": "code",
      "execution_count": 61,
      "metadata": {
        "id": "hfGmg7VbcwcY"
      },
      "outputs": [],
      "source": [
        "# AGE\n",
        "Q1 = data['AGE'].quantile(0.25)\n",
        "Q2 = data['AGE'].quantile(0.50)\n",
        "Q3 = data['AGE'].quantile(0.75)\n",
        "\n",
        "IQR = Q3-Q1\n",
        "low = Q1 - (1.5*IQR)\n",
        "high = Q3 + (1.5*IQR)\n",
        "\n",
        "data['AGE'] = np.where(data['AGE'] >= high, high, np.where(data['AGE'] <= low, low, data['AGE']))"
      ]
    },
    {
      "cell_type": "code",
      "execution_count": 62,
      "metadata": {
        "id": "viwjcN7rdB79"
      },
      "outputs": [],
      "source": [
        "# BILL_AMT1\n",
        "Q1 = data['BILL_AMT1'].quantile(0.25)\n",
        "Q2 = data['BILL_AMT1'].quantile(0.50)\n",
        "Q3 = data['BILL_AMT1'].quantile(0.75)\n",
        "\n",
        "IQR = Q3-Q1\n",
        "low = Q1 - (1.5*IQR)\n",
        "high = Q3 + (1.5*IQR)\n",
        "\n",
        "data['BILL_AMT1'] = np.where(data['BILL_AMT1'] >= high, high, np.where(data['BILL_AMT1'] <= low, low, data['BILL_AMT1']))"
      ]
    },
    {
      "cell_type": "code",
      "execution_count": 63,
      "metadata": {
        "id": "wQI0P27NdSF1"
      },
      "outputs": [],
      "source": [
        "# BILL_AMT2\n",
        "Q1 = data['BILL_AMT2'].quantile(0.25)\n",
        "Q2 = data['BILL_AMT2'].quantile(0.50)\n",
        "Q3 = data['BILL_AMT2'].quantile(0.75)\n",
        "\n",
        "IQR = Q3-Q1\n",
        "low = Q1 - (1.5*IQR)\n",
        "high = Q3 + (1.5*IQR)\n",
        "\n",
        "data['BILL_AMT2'] = np.where(data['BILL_AMT2'] >= high, high, np.where(data['BILL_AMT2'] <= low, low, data['BILL_AMT2']))"
      ]
    },
    {
      "cell_type": "code",
      "execution_count": 64,
      "metadata": {
        "id": "peEbDqMqdU6v"
      },
      "outputs": [],
      "source": [
        "# BILL_AMT3\n",
        "Q1 = data['BILL_AMT3'].quantile(0.25)\n",
        "Q2 = data['BILL_AMT3'].quantile(0.50)\n",
        "Q3 = data['BILL_AMT3'].quantile(0.75)\n",
        "\n",
        "IQR = Q3-Q1\n",
        "low = Q1 - (1.5*IQR)\n",
        "high = Q3 + (1.5*IQR)\n",
        "\n",
        "data['BILL_AMT3'] = np.where(data['BILL_AMT3'] >= high, high, np.where(data['BILL_AMT3'] <= low, low, data['BILL_AMT3']))"
      ]
    },
    {
      "cell_type": "code",
      "execution_count": 65,
      "metadata": {
        "id": "3lNX5R2FdVBQ"
      },
      "outputs": [],
      "source": [
        "# BILL_AMT4\n",
        "Q1 = data['BILL_AMT4'].quantile(0.25)\n",
        "Q2 = data['BILL_AMT4'].quantile(0.50)\n",
        "Q3 = data['BILL_AMT4'].quantile(0.75)\n",
        "\n",
        "IQR = Q3-Q1\n",
        "low = Q1 - (1.5*IQR)\n",
        "high = Q3 + (1.5*IQR)\n",
        "\n",
        "data['BILL_AMT4'] = np.where(data['BILL_AMT4'] >= high, high, np.where(data['BILL_AMT4'] <= low, low, data['BILL_AMT4']))"
      ]
    },
    {
      "cell_type": "code",
      "execution_count": 66,
      "metadata": {
        "id": "47dvCNypdVEt"
      },
      "outputs": [],
      "source": [
        "# BILL_AMT5\n",
        "Q1 = data['BILL_AMT5'].quantile(0.25)\n",
        "Q2 = data['BILL_AMT5'].quantile(0.50)\n",
        "Q3 = data['BILL_AMT5'].quantile(0.75)\n",
        "\n",
        "IQR = Q3-Q1\n",
        "low = Q1 - (1.5*IQR)\n",
        "high = Q3 + (1.5*IQR)\n",
        "\n",
        "data['BILL_AMT5'] = np.where(data['BILL_AMT5'] >= high, high, np.where(data['BILL_AMT5'] <= low, low, data['BILL_AMT5']))"
      ]
    },
    {
      "cell_type": "code",
      "execution_count": 67,
      "metadata": {
        "id": "GPzavMP3dYnk"
      },
      "outputs": [],
      "source": [
        "# BILL_AMT6\n",
        "Q1 = data['BILL_AMT6'].quantile(0.25)\n",
        "Q2 = data['BILL_AMT6'].quantile(0.50)\n",
        "Q3 = data['BILL_AMT6'].quantile(0.75)\n",
        "\n",
        "IQR = Q3-Q1\n",
        "low = Q1 - (1.5*IQR)\n",
        "high = Q3 + (1.5*IQR)\n",
        "\n",
        "data['BILL_AMT6'] = np.where(data['BILL_AMT6'] >= high, high, np.where(data['BILL_AMT6'] <= low, low, data['BILL_AMT6']))"
      ]
    },
    {
      "cell_type": "code",
      "execution_count": 68,
      "metadata": {
        "id": "Xg5cos-zdzMP"
      },
      "outputs": [],
      "source": [
        "# PAY_AMT1\n",
        "Q1 = data['PAY_AMT1'].quantile(0.25)\n",
        "Q2 = data['PAY_AMT1'].quantile(0.50)\n",
        "Q3 = data['PAY_AMT1'].quantile(0.75)\n",
        "\n",
        "IQR = Q3-Q1\n",
        "low = Q1 - (1.5*IQR)\n",
        "high = Q3 + (1.5*IQR)\n",
        "\n",
        "data['PAY_AMT1'] = np.where(data['PAY_AMT1'] >= high, high, np.where(data['PAY_AMT1'] <= low, low, data['PAY_AMT1']))"
      ]
    },
    {
      "cell_type": "code",
      "execution_count": 69,
      "metadata": {
        "id": "HbX4eSABeCQM"
      },
      "outputs": [],
      "source": [
        "# PAY_AMT2\n",
        "Q1 = data['PAY_AMT2'].quantile(0.25)\n",
        "Q2 = data['PAY_AMT2'].quantile(0.50)\n",
        "Q3 = data['PAY_AMT2'].quantile(0.75)\n",
        "\n",
        "IQR = Q3-Q1\n",
        "low = Q1 - (1.5*IQR)\n",
        "high = Q3 + (1.5*IQR)\n",
        "\n",
        "data['PAY_AMT2'] = np.where(data['PAY_AMT2'] >= high, high, np.where(data['PAY_AMT2'] <= low, low, data['PAY_AMT2']))"
      ]
    },
    {
      "cell_type": "code",
      "execution_count": 70,
      "metadata": {
        "id": "gDqOgWsDeCS9"
      },
      "outputs": [],
      "source": [
        "# PAY_AMT3\n",
        "Q1 = data['PAY_AMT3'].quantile(0.25)\n",
        "Q2 = data['PAY_AMT3'].quantile(0.50)\n",
        "Q3 = data['PAY_AMT3'].quantile(0.75)\n",
        "\n",
        "IQR = Q3-Q1\n",
        "low = Q1 - (1.5*IQR)\n",
        "high = Q3 + (1.5*IQR)\n",
        "\n",
        "data['PAY_AMT3'] = np.where(data['PAY_AMT3'] >= high, high, np.where(data['PAY_AMT3'] <= low, low, data['PAY_AMT3']))"
      ]
    },
    {
      "cell_type": "code",
      "execution_count": 71,
      "metadata": {
        "id": "2Y5K3ovQeCVn"
      },
      "outputs": [],
      "source": [
        "# PAY_AMT4\n",
        "Q1 = data['PAY_AMT4'].quantile(0.25)\n",
        "Q2 = data['PAY_AMT4'].quantile(0.50)\n",
        "Q3 = data['PAY_AMT4'].quantile(0.75)\n",
        "\n",
        "IQR = Q3-Q1\n",
        "low = Q1 - (1.5*IQR)\n",
        "high = Q3 + (1.5*IQR)\n",
        "\n",
        "data['PAY_AMT4'] = np.where(data['PAY_AMT4'] >= high, high, np.where(data['PAY_AMT4'] <= low, low, data['PAY_AMT4']))"
      ]
    },
    {
      "cell_type": "code",
      "execution_count": 72,
      "metadata": {
        "id": "ZzqkkqgAeCXx"
      },
      "outputs": [],
      "source": [
        "# PAY_AMT5\n",
        "Q1 = data['PAY_AMT5'].quantile(0.25)\n",
        "Q2 = data['PAY_AMT5'].quantile(0.50)\n",
        "Q3 = data['PAY_AMT5'].quantile(0.75)\n",
        "\n",
        "IQR = Q3-Q1\n",
        "low = Q1 - (1.5*IQR)\n",
        "high = Q3 + (1.5*IQR)\n",
        "\n",
        "data['PAY_AMT5'] = np.where(data['PAY_AMT5'] >= high, high, np.where(data['PAY_AMT5'] <= low, low, data['PAY_AMT5']))"
      ]
    },
    {
      "cell_type": "code",
      "execution_count": 73,
      "metadata": {
        "id": "K6Q0zXRveCaK"
      },
      "outputs": [],
      "source": [
        "# PAY_AMT6\n",
        "Q1 = data['PAY_AMT6'].quantile(0.25)\n",
        "Q2 = data['PAY_AMT6'].quantile(0.50)\n",
        "Q3 = data['PAY_AMT6'].quantile(0.75)\n",
        "\n",
        "IQR = Q3-Q1\n",
        "low = Q1 - (1.5*IQR)\n",
        "high = Q3 + (1.5*IQR)\n",
        "\n",
        "data['PAY_AMT6'] = np.where(data['PAY_AMT6'] >= high, high, np.where(data['PAY_AMT6'] <= low, low, data['PAY_AMT6']))"
      ]
    },
    {
      "cell_type": "code",
      "execution_count": 74,
      "metadata": {
        "id": "PZiqJ5jmeCb9"
      },
      "outputs": [],
      "source": [
        "# Plotting the features after removal of Outliers"
      ]
    },
    {
      "cell_type": "code",
      "execution_count": 75,
      "metadata": {
        "id": "7gHMj8-zes1M",
        "colab": {
          "base_uri": "https://localhost:8080/",
          "height": 1000
        },
        "outputId": "860dd9ea-8a02-4856-87f3-8ef0bb2d6ca5"
      },
      "outputs": [
        {
          "output_type": "execute_result",
          "data": {
            "text/plain": [
              "Text(0.5, 1.0, 'PAY_AMT6')"
            ]
          },
          "metadata": {},
          "execution_count": 75
        },
        {
          "output_type": "display_data",
          "data": {
            "text/plain": [
              "<Figure size 2000x2000 with 14 Axes>"
            ],
            "image/png": "[encoded data removed]"
          },
          "metadata": {}
        }
      ],
      "source": [
        "plt.figure(figsize=(20,20))\n",
        "plt.subplot(5,3,1)\n",
        "plt.boxplot(data['LIMIT_BAL'])\n",
        "plt.title('Limit balance', fontsize=15)\n",
        "\n",
        "plt.subplot(5,3,2)\n",
        "plt.boxplot(data['AGE'])\n",
        "plt.title('Age', fontsize=15)\n",
        "\n",
        "plt.subplot(5,3,3)\n",
        "plt.boxplot(data['BILL_AMT1'])\n",
        "plt.title('BILL_AMT1', fontsize=15)\n",
        "\n",
        "plt.subplot(5,3,4)\n",
        "plt.boxplot(data['BILL_AMT2'])\n",
        "plt.title('BILL_AMT2', fontsize=15)\n",
        "\n",
        "plt.subplot(5,3,5)\n",
        "plt.boxplot(data['BILL_AMT3'])\n",
        "plt.title('BILL_AMT3', fontsize=15)\n",
        "\n",
        "plt.subplot(5,3,6)\n",
        "plt.boxplot(data['BILL_AMT4'])\n",
        "plt.title('BILL_AMT4', fontsize=15)\n",
        "\n",
        "plt.subplot(5,3,7)\n",
        "plt.boxplot(data['BILL_AMT5'])\n",
        "plt.title('BILL_AMT5', fontsize=15)\n",
        "\n",
        "plt.subplot(5,3,8)\n",
        "plt.boxplot(data['BILL_AMT6'])\n",
        "plt.title('BILL_AMT6', fontsize=15)\n",
        "\n",
        "plt.subplot(5,3,9)\n",
        "plt.boxplot(data['PAY_AMT1'])\n",
        "plt.title('PAY_AMT1', fontsize=15)\n",
        "\n",
        "plt.subplot(5,3,10)\n",
        "plt.boxplot(data['PAY_AMT2'])\n",
        "plt.title('PAY_AMT2', fontsize=15)\n",
        "\n",
        "plt.subplot(5,3,11)\n",
        "plt.boxplot(data['PAY_AMT3'])\n",
        "plt.title('PAY_AMT3', fontsize=15)\n",
        "\n",
        "plt.subplot(5,3,12)\n",
        "plt.boxplot(data['PAY_AMT4'])\n",
        "plt.title('PAY_AMT4', fontsize=15)\n",
        "\n",
        "plt.subplot(5,3,13)\n",
        "plt.boxplot(data['PAY_AMT5'])\n",
        "plt.title('PAY_AMT5', fontsize=15)\n",
        "\n",
        "plt.subplot(5,3,14)\n",
        "plt.boxplot(data['PAY_AMT6'])\n",
        "plt.title('PAY_AMT6', fontsize=15)"
      ]
    },
    {
      "cell_type": "code",
      "execution_count": 76,
      "metadata": {
        "id": "9kRZeJZcezVp"
      },
      "outputs": [],
      "source": [
        "# Encoding\n",
        "# Label Encoding is not needed here for target column as it is already in numerical form"
      ]
    },
    {
      "cell_type": "code",
      "execution_count": 77,
      "metadata": {
        "id": "42jVObsPODhU"
      },
      "outputs": [],
      "source": [
        "# One-Hot Encoding is also not required as all independent features are numerical"
      ]
    },
    {
      "cell_type": "code",
      "execution_count": 78,
      "metadata": {
        "id": "CcphuGvBOLo2"
      },
      "outputs": [],
      "source": [
        "# Scaling\n",
        "\n",
        "# We do not do feature scaling for target column, this is especially dangerous in the case of regression models where the target column if scaled leads to incorrect information to model\n",
        "# Feature scaling only in independent features and non-target columns"
      ]
    },
    {
      "cell_type": "code",
      "execution_count": 79,
      "metadata": {
        "id": "LpB7quONOhVe"
      },
      "outputs": [],
      "source": [
        "from sklearn.preprocessing import StandardScaler\n",
        "sc = StandardScaler()"
      ]
    },
    {
      "cell_type": "code",
      "execution_count": 80,
      "metadata": {
        "id": "SuVND4IpOmLg",
        "colab": {
          "base_uri": "https://localhost:8080/",
          "height": 384
        },
        "outputId": "685b11d8-8921-4964-88e8-f04692a0336e"
      },
      "outputs": [
        {
          "output_type": "execute_result",
          "data": {
            "text/plain": [
              "                 ID      LIMIT_BAL           SEX     EDUCATION      MARRIAGE  \\\n",
              "count  30000.000000   30000.000000  30000.000000  30000.000000  30000.000000   \n",
              "mean   15000.500000  166967.489333      1.603733      1.853133      1.553667   \n",
              "std     8660.398374  128013.394323      0.489129      0.790349      0.518326   \n",
              "min        1.000000   10000.000000      1.000000      0.000000      1.000000   \n",
              "25%     7500.750000   50000.000000      1.000000      1.000000      1.000000   \n",
              "50%    15000.500000  140000.000000      2.000000      2.000000      2.000000   \n",
              "75%    22500.250000  240000.000000      2.000000      2.000000      2.000000   \n",
              "max    30000.000000  525000.000000      2.000000      6.000000      3.000000   \n",
              "\n",
              "                AGE         PAY_1         PAY_2         PAY_3         PAY_4  \\\n",
              "count  30000.000000  30000.000000  30000.000000  30000.000000  30000.000000   \n",
              "mean      35.449467     -0.016700     -0.133767     -0.166200     -0.220667   \n",
              "std        9.106024      1.123802      1.197186      1.196868      1.169139   \n",
              "min       21.000000     -2.000000     -2.000000     -2.000000     -2.000000   \n",
              "25%       28.000000     -1.000000     -1.000000     -1.000000     -1.000000   \n",
              "50%       34.000000      0.000000      0.000000      0.000000      0.000000   \n",
              "75%       41.000000      0.000000      0.000000      0.000000      0.000000   \n",
              "max       60.500000      8.000000      8.000000      8.000000      8.000000   \n",
              "\n",
              "       ...      BILL_AMT4      BILL_AMT5      BILL_AMT6      PAY_AMT1  \\\n",
              "count  ...   30000.000000   30000.000000   30000.000000  30000.000000   \n",
              "mean   ...   36551.073642   33754.151258   32595.088604   3496.730800   \n",
              "std    ...   42751.481350   39896.030557   39367.735129   3492.742781   \n",
              "min    ...  -75942.125000  -70878.250000  -70657.375000      0.000000   \n",
              "25%    ...    2326.750000    1763.000000    1256.000000   1000.000000   \n",
              "50%    ...   19052.000000   18104.500000   17071.000000   2100.000000   \n",
              "75%    ...   54506.000000   50190.500000   49198.250000   5006.000000   \n",
              "max    ...  132774.875000  122831.750000  121111.625000  11015.000000   \n",
              "\n",
              "           PAY_AMT2      PAY_AMT3      PAY_AMT4      PAY_AMT5      PAY_AMT6  \\\n",
              "count  30000.000000  30000.000000  30000.000000  30000.000000  30000.000000   \n",
              "mean    3422.306967   3035.817900   2718.296075   2731.547167   2714.437875   \n",
              "std     3532.819886   3355.632738   3073.301491   3094.091228   3131.180741   \n",
              "min        0.000000      0.000000      0.000000      0.000000      0.000000   \n",
              "25%      833.000000    390.000000    296.000000    252.500000    117.750000   \n",
              "50%     2009.000000   1800.000000   1500.000000   1500.000000   1500.000000   \n",
              "75%     5000.000000   4505.000000   4013.250000   4031.500000   4000.000000   \n",
              "max    11250.500000  10677.500000   9589.125000   9700.000000   9823.375000   \n",
              "\n",
              "       default payment next month  \n",
              "count                30000.000000  \n",
              "mean                     0.221200  \n",
              "std                      0.415062  \n",
              "min                      0.000000  \n",
              "25%                      0.000000  \n",
              "50%                      0.000000  \n",
              "75%                      0.000000  \n",
              "max                      1.000000  \n",
              "\n",
              "[8 rows x 25 columns]"
            ],
            "text/html": [
              "\n",
              "  <div id=\"df-2b3fa1c1-7c15-437d-a343-ded67c967035\" class=\"colab-df-container\">\n",
              "    <div>\n",
              "<style scoped>\n",
              "    .dataframe tbody tr th:only-of-type {\n",
              "        vertical-align: middle;\n",
              "    }\n",
              "\n",
              "    .dataframe tbody tr th {\n",
              "        vertical-align: top;\n",
              "    }\n",
              "\n",
              "    .dataframe thead th {\n",
              "        text-align: right;\n",
              "    }\n",
              "</style>\n",
              "<table border=\"1\" class=\"dataframe\">\n",
              "  <thead>\n",
              "    <tr style=\"text-align: right;\">\n",
              "      <th></th>\n",
              "      <th>ID</th>\n",
              "      <th>LIMIT_BAL</th>\n",
              "      <th>SEX</th>\n",
              "      <th>EDUCATION</th>\n",
              "      <th>MARRIAGE</th>\n",
              "      <th>AGE</th>\n",
              "      <th>PAY_1</th>\n",
              "      <th>PAY_2</th>\n",
              "      <th>PAY_3</th>\n",
              "      <th>PAY_4</th>\n",
              "      <th>...</th>\n",
              "      <th>BILL_AMT4</th>\n",
              "      <th>BILL_AMT5</th>\n",
              "      <th>BILL_AMT6</th>\n",
              "      <th>PAY_AMT1</th>\n",
              "      <th>PAY_AMT2</th>\n",
              "      <th>PAY_AMT3</th>\n",
              "      <th>PAY_AMT4</th>\n",
              "      <th>PAY_AMT5</th>\n",
              "      <th>PAY_AMT6</th>\n",
              "      <th>default payment next month</th>\n",
              "    </tr>\n",
              "  </thead>\n",
              "  <tbody>\n",
              "    <tr>\n",
              "      <th>count</th>\n",
              "      <td>30000.000000</td>\n",
              "      <td>30000.000000</td>\n",
              "      <td>30000.000000</td>\n",
              "      <td>30000.000000</td>\n",
              "      <td>30000.000000</td>\n",
              "      <td>30000.000000</td>\n",
              "      <td>30000.000000</td>\n",
              "      <td>30000.000000</td>\n",
              "      <td>30000.000000</td>\n",
              "      <td>30000.000000</td>\n",
              "      <td>...</td>\n",
              "      <td>30000.000000</td>\n",
              "      <td>30000.000000</td>\n",
              "      <td>30000.000000</td>\n",
              "      <td>30000.000000</td>\n",
              "      <td>30000.000000</td>\n",
              "      <td>30000.000000</td>\n",
              "      <td>30000.000000</td>\n",
              "      <td>30000.000000</td>\n",
              "      <td>30000.000000</td>\n",
              "      <td>30000.000000</td>\n",
              "    </tr>\n",
              "    <tr>\n",
              "      <th>mean</th>\n",
              "      <td>15000.500000</td>\n",
              "      <td>166967.489333</td>\n",
              "      <td>1.603733</td>\n",
              "      <td>1.853133</td>\n",
              "      <td>1.553667</td>\n",
              "      <td>35.449467</td>\n",
              "      <td>-0.016700</td>\n",
              "      <td>-0.133767</td>\n",
              "      <td>-0.166200</td>\n",
              "      <td>-0.220667</td>\n",
              "      <td>...</td>\n",
              "      <td>36551.073642</td>\n",
              "      <td>33754.151258</td>\n",
              "      <td>32595.088604</td>\n",
              "      <td>3496.730800</td>\n",
              "      <td>3422.306967</td>\n",
              "      <td>3035.817900</td>\n",
              "      <td>2718.296075</td>\n",
              "      <td>2731.547167</td>\n",
              "      <td>2714.437875</td>\n",
              "      <td>0.221200</td>\n",
              "    </tr>\n",
              "    <tr>\n",
              "      <th>std</th>\n",
              "      <td>8660.398374</td>\n",
              "      <td>128013.394323</td>\n",
              "      <td>0.489129</td>\n",
              "      <td>0.790349</td>\n",
              "      <td>0.518326</td>\n",
              "      <td>9.106024</td>\n",
              "      <td>1.123802</td>\n",
              "      <td>1.197186</td>\n",
              "      <td>1.196868</td>\n",
              "      <td>1.169139</td>\n",
              "      <td>...</td>\n",
              "      <td>42751.481350</td>\n",
              "      <td>39896.030557</td>\n",
              "      <td>39367.735129</td>\n",
              "      <td>3492.742781</td>\n",
              "      <td>3532.819886</td>\n",
              "      <td>3355.632738</td>\n",
              "      <td>3073.301491</td>\n",
              "      <td>3094.091228</td>\n",
              "      <td>3131.180741</td>\n",
              "      <td>0.415062</td>\n",
              "    </tr>\n",
              "    <tr>\n",
              "      <th>min</th>\n",
              "      <td>1.000000</td>\n",
              "      <td>10000.000000</td>\n",
              "      <td>1.000000</td>\n",
              "      <td>0.000000</td>\n",
              "      <td>1.000000</td>\n",
              "      <td>21.000000</td>\n",
              "      <td>-2.000000</td>\n",
              "      <td>-2.000000</td>\n",
              "      <td>-2.000000</td>\n",
              "      <td>-2.000000</td>\n",
              "      <td>...</td>\n",
              "      <td>-75942.125000</td>\n",
              "      <td>-70878.250000</td>\n",
              "      <td>-70657.375000</td>\n",
              "      <td>0.000000</td>\n",
              "      <td>0.000000</td>\n",
              "      <td>0.000000</td>\n",
              "      <td>0.000000</td>\n",
              "      <td>0.000000</td>\n",
              "      <td>0.000000</td>\n",
              "      <td>0.000000</td>\n",
              "    </tr>\n",
              "    <tr>\n",
              "      <th>25%</th>\n",
              "      <td>7500.750000</td>\n",
              "      <td>50000.000000</td>\n",
              "      <td>1.000000</td>\n",
              "      <td>1.000000</td>\n",
              "      <td>1.000000</td>\n",
              "      <td>28.000000</td>\n",
              "      <td>-1.000000</td>\n",
              "      <td>-1.000000</td>\n",
              "      <td>-1.000000</td>\n",
              "      <td>-1.000000</td>\n",
              "      <td>...</td>\n",
              "      <td>2326.750000</td>\n",
              "      <td>1763.000000</td>\n",
              "      <td>1256.000000</td>\n",
              "      <td>1000.000000</td>\n",
              "      <td>833.000000</td>\n",
              "      <td>390.000000</td>\n",
              "      <td>296.000000</td>\n",
              "      <td>252.500000</td>\n",
              "      <td>117.750000</td>\n",
              "      <td>0.000000</td>\n",
              "    </tr>\n",
              "    <tr>\n",
              "      <th>50%</th>\n",
              "      <td>15000.500000</td>\n",
              "      <td>140000.000000</td>\n",
              "      <td>2.000000</td>\n",
              "      <td>2.000000</td>\n",
              "      <td>2.000000</td>\n",
              "      <td>34.000000</td>\n",
              "      <td>0.000000</td>\n",
              "      <td>0.000000</td>\n",
              "      <td>0.000000</td>\n",
              "      <td>0.000000</td>\n",
              "      <td>...</td>\n",
              "      <td>19052.000000</td>\n",
              "      <td>18104.500000</td>\n",
              "      <td>17071.000000</td>\n",
              "      <td>2100.000000</td>\n",
              "      <td>2009.000000</td>\n",
              "      <td>1800.000000</td>\n",
              "      <td>1500.000000</td>\n",
              "      <td>1500.000000</td>\n",
              "      <td>1500.000000</td>\n",
              "      <td>0.000000</td>\n",
              "    </tr>\n",
              "    <tr>\n",
              "      <th>75%</th>\n",
              "      <td>22500.250000</td>\n",
              "      <td>240000.000000</td>\n",
              "      <td>2.000000</td>\n",
              "      <td>2.000000</td>\n",
              "      <td>2.000000</td>\n",
              "      <td>41.000000</td>\n",
              "      <td>0.000000</td>\n",
              "      <td>0.000000</td>\n",
              "      <td>0.000000</td>\n",
              "      <td>0.000000</td>\n",
              "      <td>...</td>\n",
              "      <td>54506.000000</td>\n",
              "      <td>50190.500000</td>\n",
              "      <td>49198.250000</td>\n",
              "      <td>5006.000000</td>\n",
              "      <td>5000.000000</td>\n",
              "      <td>4505.000000</td>\n",
              "      <td>4013.250000</td>\n",
              "      <td>4031.500000</td>\n",
              "      <td>4000.000000</td>\n",
              "      <td>0.000000</td>\n",
              "    </tr>\n",
              "    <tr>\n",
              "      <th>max</th>\n",
              "      <td>30000.000000</td>\n",
              "      <td>525000.000000</td>\n",
              "      <td>2.000000</td>\n",
              "      <td>6.000000</td>\n",
              "      <td>3.000000</td>\n",
              "      <td>60.500000</td>\n",
              "      <td>8.000000</td>\n",
              "      <td>8.000000</td>\n",
              "      <td>8.000000</td>\n",
              "      <td>8.000000</td>\n",
              "      <td>...</td>\n",
              "      <td>132774.875000</td>\n",
              "      <td>122831.750000</td>\n",
              "      <td>121111.625000</td>\n",
              "      <td>11015.000000</td>\n",
              "      <td>11250.500000</td>\n",
              "      <td>10677.500000</td>\n",
              "      <td>9589.125000</td>\n",
              "      <td>9700.000000</td>\n",
              "      <td>9823.375000</td>\n",
              "      <td>1.000000</td>\n",
              "    </tr>\n",
              "  </tbody>\n",
              "</table>\n",
              "<p>8 rows × 25 columns</p>\n",
              "</div>\n",
              "    <div class=\"colab-df-buttons\">\n",
              "\n",
              "  <div class=\"colab-df-container\">\n",
              "    <button class=\"colab-df-convert\" onclick=\"convertToInteractive('df-2b3fa1c1-7c15-437d-a343-ded67c967035')\"\n",
              "            title=\"Convert this dataframe to an interactive table.\"\n",
              "            style=\"display:none;\">\n",
              "\n",
              "  <svg xmlns=\"http://www.w3.org/2000/svg\" height=\"24px\" viewBox=\"0 -960 960 960\">\n",
              "    <path d=\"M120-120v-720h720v720H120Zm60-500h600v-160H180v160Zm220 220h160v-160H400v160Zm0 220h160v-160H400v160ZM180-400h160v-160H180v160Zm440 0h160v-160H620v160ZM180-180h160v-160H180v160Zm440 0h160v-160H620v160Z\"/>\n",
              "  </svg>\n",
              "    </button>\n",
              "\n",
              "  <style>\n",
              "    .colab-df-container {\n",
              "      display:flex;\n",
              "      gap: 12px;\n",
              "    }\n",
              "\n",
              "    .colab-df-convert {\n",
              "      background-color: #E8F0FE;\n",
              "      border: none;\n",
              "      border-radius: 50%;\n",
              "      cursor: pointer;\n",
              "      display: none;\n",
              "      fill: #1967D2;\n",
              "      height: 32px;\n",
              "      padding: 0 0 0 0;\n",
              "      width: 32px;\n",
              "    }\n",
              "\n",
              "    .colab-df-convert:hover {\n",
              "      background-color: #E2EBFA;\n",
              "      box-shadow: 0px 1px 2px rgba(60, 64, 67, 0.3), 0px 1px 3px 1px rgba(60, 64, 67, 0.15);\n",
              "      fill: #174EA6;\n",
              "    }\n",
              "\n",
              "    .colab-df-buttons div {\n",
              "      margin-bottom: 4px;\n",
              "    }\n",
              "\n",
              "    [theme=dark] .colab-df-convert {\n",
              "      background-color: #3B4455;\n",
              "      fill: #D2E3FC;\n",
              "    }\n",
              "\n",
              "    [theme=dark] .colab-df-convert:hover {\n",
              "      background-color: #434B5C;\n",
              "      box-shadow: 0px 1px 3px 1px rgba(0, 0, 0, 0.15);\n",
              "      filter: drop-shadow(0px 1px 2px rgba(0, 0, 0, 0.3));\n",
              "      fill: #FFFFFF;\n",
              "    }\n",
              "  </style>\n",
              "\n",
              "    <script>\n",
              "      const buttonEl =\n",
              "        document.querySelector('#df-2b3fa1c1-7c15-437d-a343-ded67c967035 button.colab-df-convert');\n",
              "      buttonEl.style.display =\n",
              "        google.colab.kernel.accessAllowed ? 'block' : 'none';\n",
              "\n",
              "      async function convertToInteractive(key) {\n",
              "        const element = document.querySelector('#df-2b3fa1c1-7c15-437d-a343-ded67c967035');\n",
              "        const dataTable =\n",
              "          await google.colab.kernel.invokeFunction('convertToInteractive',\n",
              "                                                    [key], {});\n",
              "        if (!dataTable) return;\n",
              "\n",
              "        const docLinkHtml = 'Like what you see? Visit the ' +\n",
              "          '<a target=\"_blank\" href=https://colab.research.google.com/notebooks/data_table.ipynb>data table notebook</a>'\n",
              "          + ' to learn more about interactive tables.';\n",
              "        element.innerHTML = '';\n",
              "        dataTable['output_type'] = 'display_data';\n",
              "        await google.colab.output.renderOutput(dataTable, element);\n",
              "        const docLink = document.createElement('div');\n",
              "        docLink.innerHTML = docLinkHtml;\n",
              "        element.appendChild(docLink);\n",
              "      }\n",
              "    </script>\n",
              "  </div>\n",
              "\n",
              "\n",
              "<div id=\"df-c982fdfa-d7a3-411b-9f01-33cd75e1cf4b\">\n",
              "  <button class=\"colab-df-quickchart\" onclick=\"quickchart('df-c982fdfa-d7a3-411b-9f01-33cd75e1cf4b')\"\n",
              "            title=\"Suggest charts\"\n",
              "            style=\"display:none;\">\n",
              "\n",
              "<svg xmlns=\"http://www.w3.org/2000/svg\" height=\"24px\"viewBox=\"0 0 24 24\"\n",
              "     width=\"24px\">\n",
              "    <g>\n",
              "        <path d=\"M19 3H5c-1.1 0-2 .9-2 2v14c0 1.1.9 2 2 2h14c1.1 0 2-.9 2-2V5c0-1.1-.9-2-2-2zM9 17H7v-7h2v7zm4 0h-2V7h2v10zm4 0h-2v-4h2v4z\"/>\n",
              "    </g>\n",
              "</svg>\n",
              "  </button>\n",
              "\n",
              "<style>\n",
              "  .colab-df-quickchart {\n",
              "      --bg-color: #E8F0FE;\n",
              "      --fill-color: #1967D2;\n",
              "      --hover-bg-color: #E2EBFA;\n",
              "      --hover-fill-color: #174EA6;\n",
              "      --disabled-fill-color: #AAA;\n",
              "      --disabled-bg-color: #DDD;\n",
              "  }\n",
              "\n",
              "  [theme=dark] .colab-df-quickchart {\n",
              "      --bg-color: #3B4455;\n",
              "      --fill-color: #D2E3FC;\n",
              "      --hover-bg-color: #434B5C;\n",
              "      --hover-fill-color: #FFFFFF;\n",
              "      --disabled-bg-color: #3B4455;\n",
              "      --disabled-fill-color: #666;\n",
              "  }\n",
              "\n",
              "  .colab-df-quickchart {\n",
              "    background-color: var(--bg-color);\n",
              "    border: none;\n",
              "    border-radius: 50%;\n",
              "    cursor: pointer;\n",
              "    display: none;\n",
              "    fill: var(--fill-color);\n",
              "    height: 32px;\n",
              "    padding: 0;\n",
              "    width: 32px;\n",
              "  }\n",
              "\n",
              "  .colab-df-quickchart:hover {\n",
              "    background-color: var(--hover-bg-color);\n",
              "    box-shadow: 0 1px 2px rgba(60, 64, 67, 0.3), 0 1px 3px 1px rgba(60, 64, 67, 0.15);\n",
              "    fill: var(--button-hover-fill-color);\n",
              "  }\n",
              "\n",
              "  .colab-df-quickchart-complete:disabled,\n",
              "  .colab-df-quickchart-complete:disabled:hover {\n",
              "    background-color: var(--disabled-bg-color);\n",
              "    fill: var(--disabled-fill-color);\n",
              "    box-shadow: none;\n",
              "  }\n",
              "\n",
              "  .colab-df-spinner {\n",
              "    border: 2px solid var(--fill-color);\n",
              "    border-color: transparent;\n",
              "    border-bottom-color: var(--fill-color);\n",
              "    animation:\n",
              "      spin 1s steps(1) infinite;\n",
              "  }\n",
              "\n",
              "  @keyframes spin {\n",
              "    0% {\n",
              "      border-color: transparent;\n",
              "      border-bottom-color: var(--fill-color);\n",
              "      border-left-color: var(--fill-color);\n",
              "    }\n",
              "    20% {\n",
              "      border-color: transparent;\n",
              "      border-left-color: var(--fill-color);\n",
              "      border-top-color: var(--fill-color);\n",
              "    }\n",
              "    30% {\n",
              "      border-color: transparent;\n",
              "      border-left-color: var(--fill-color);\n",
              "      border-top-color: var(--fill-color);\n",
              "      border-right-color: var(--fill-color);\n",
              "    }\n",
              "    40% {\n",
              "      border-color: transparent;\n",
              "      border-right-color: var(--fill-color);\n",
              "      border-top-color: var(--fill-color);\n",
              "    }\n",
              "    60% {\n",
              "      border-color: transparent;\n",
              "      border-right-color: var(--fill-color);\n",
              "    }\n",
              "    80% {\n",
              "      border-color: transparent;\n",
              "      border-right-color: var(--fill-color);\n",
              "      border-bottom-color: var(--fill-color);\n",
              "    }\n",
              "    90% {\n",
              "      border-color: transparent;\n",
              "      border-bottom-color: var(--fill-color);\n",
              "    }\n",
              "  }\n",
              "</style>\n",
              "\n",
              "  <script>\n",
              "    async function quickchart(key) {\n",
              "      const quickchartButtonEl =\n",
              "        document.querySelector('#' + key + ' button');\n",
              "      quickchartButtonEl.disabled = true;  // To prevent multiple clicks.\n",
              "      quickchartButtonEl.classList.add('colab-df-spinner');\n",
              "      try {\n",
              "        const charts = await google.colab.kernel.invokeFunction(\n",
              "            'suggestCharts', [key], {});\n",
              "      } catch (error) {\n",
              "        console.error('Error during call to suggestCharts:', error);\n",
              "      }\n",
              "      quickchartButtonEl.classList.remove('colab-df-spinner');\n",
              "      quickchartButtonEl.classList.add('colab-df-quickchart-complete');\n",
              "    }\n",
              "    (() => {\n",
              "      let quickchartButtonEl =\n",
              "        document.querySelector('#df-c982fdfa-d7a3-411b-9f01-33cd75e1cf4b button');\n",
              "      quickchartButtonEl.style.display =\n",
              "        google.colab.kernel.accessAllowed ? 'block' : 'none';\n",
              "    })();\n",
              "  </script>\n",
              "</div>\n",
              "    </div>\n",
              "  </div>\n"
            ]
          },
          "metadata": {},
          "execution_count": 80
        }
      ],
      "source": [
        "data.describe()"
      ]
    },
    {
      "cell_type": "code",
      "execution_count": 81,
      "metadata": {
        "id": "OEXyiQKzOr4c"
      },
      "outputs": [],
      "source": [
        "# We split the data into x and y where x stands for the feature variables and y stands for target variable"
      ]
    },
    {
      "cell_type": "code",
      "execution_count": 82,
      "metadata": {
        "id": "CfesDup_Ow45",
        "colab": {
          "base_uri": "https://localhost:8080/"
        },
        "outputId": "9333fba1-0396-46a7-f8df-d33056b0a2e4"
      },
      "outputs": [
        {
          "output_type": "stream",
          "name": "stderr",
          "text": [
            "<ipython-input-82-d65eb47a1575>:5: SettingWithCopyWarning: \n",
            "A value is trying to be set on a copy of a slice from a DataFrame.\n",
            "Try using .loc[row_indexer,col_indexer] = value instead\n",
            "\n",
            "See the caveats in the documentation: https://pandas.pydata.org/pandas-docs/stable/user_guide/indexing.html#returning-a-view-versus-a-copy\n",
            "  x.loc[:,['LIMIT_BAL','AGE', 'BILL_AMT1', 'BILL_AMT2', 'BILL_AMT3', 'BILL_AMT4', 'BILL_AMT5', 'BILL_AMT6', 'PAY_AMT1', 'PAY_AMT2', 'PAY_AMT3', 'PAY_AMT4', 'PAY_AMT5', 'PAY_AMT6']] = sc.fit_transform(x[['LIMIT_BAL','AGE', 'BILL_AMT1', 'BILL_AMT2', 'BILL_AMT3', 'BILL_AMT4', 'BILL_AMT5', 'BILL_AMT6', 'PAY_AMT1', 'PAY_AMT2', 'PAY_AMT3', 'PAY_AMT4', 'PAY_AMT5', 'PAY_AMT6']])\n"
          ]
        }
      ],
      "source": [
        "# x - Independent feature;  y - Target Column\n",
        "x = data[['LIMIT_BAL', 'SEX', 'EDUCATION','MARRIAGE','PAY_1','PAY_2','PAY_3','PAY_4','PAY_5','PAY_6','AGE', 'BILL_AMT1', 'BILL_AMT2', 'BILL_AMT3', 'BILL_AMT4', 'BILL_AMT5', 'BILL_AMT6', 'PAY_AMT1', 'PAY_AMT2', 'PAY_AMT3', 'PAY_AMT4', 'PAY_AMT5', 'PAY_AMT6']]\n",
        "y = data['default payment next month']  # Target Column\n",
        "\n",
        "x.loc[:,['LIMIT_BAL','AGE', 'BILL_AMT1', 'BILL_AMT2', 'BILL_AMT3', 'BILL_AMT4', 'BILL_AMT5', 'BILL_AMT6', 'PAY_AMT1', 'PAY_AMT2', 'PAY_AMT3', 'PAY_AMT4', 'PAY_AMT5', 'PAY_AMT6']] = sc.fit_transform(x[['LIMIT_BAL','AGE', 'BILL_AMT1', 'BILL_AMT2', 'BILL_AMT3', 'BILL_AMT4', 'BILL_AMT5', 'BILL_AMT6', 'PAY_AMT1', 'PAY_AMT2', 'PAY_AMT3', 'PAY_AMT4', 'PAY_AMT5', 'PAY_AMT6']])"
      ]
    },
    {
      "cell_type": "code",
      "execution_count": 83,
      "metadata": {
        "id": "LZeY2ARXDsk7",
        "colab": {
          "base_uri": "https://localhost:8080/",
          "height": 255
        },
        "outputId": "a8a41a39-682e-4292-fe07-1d3c7ebd3fed"
      },
      "outputs": [
        {
          "output_type": "execute_result",
          "data": {
            "text/plain": [
              "   LIMIT_BAL  SEX  EDUCATION  MARRIAGE  PAY_1  PAY_2  PAY_3  PAY_4  PAY_5  \\\n",
              "0  -1.148083    2          2         1      2      2     -1     -1     -2   \n",
              "1  -0.366901    2          2         2     -1      2      0      0      0   \n",
              "2  -0.601256    2          2         2      0      0      0      0      0   \n",
              "3  -0.913728    2          2         1      0      0      0      0      0   \n",
              "4  -0.913728    1          2         1     -1      0     -1      0      0   \n",
              "\n",
              "   PAY_6  ...  BILL_AMT3  BILL_AMT4  BILL_AMT5  BILL_AMT6  PAY_AMT1  PAY_AMT2  \\\n",
              "0     -2  ...  -0.844489  -0.854980  -0.846067  -0.827978 -1.001158 -0.773703   \n",
              "1      2  ...  -0.801811  -0.778444  -0.759465  -0.745143 -1.001158 -0.685670   \n",
              "2      0  ...  -0.568893  -0.519758  -0.471387  -0.433004 -0.566536 -0.544137   \n",
              "3      0  ...   0.196266  -0.192677  -0.120193  -0.077427 -0.428533 -0.397227   \n",
              "4      0  ...  -0.091878  -0.365165  -0.366162  -0.342014 -0.428533  2.215885   \n",
              "\n",
              "   PAY_AMT3  PAY_AMT4  PAY_AMT5  PAY_AMT6  \n",
              "0 -0.904708 -0.884502 -0.882842 -0.866920  \n",
              "1 -0.606697 -0.559114 -0.882842 -0.228173  \n",
              "2 -0.606697 -0.559114 -0.559640  0.729948  \n",
              "3 -0.547095 -0.526575 -0.537339 -0.547546  \n",
              "4  2.075405  2.043994 -0.660155 -0.650065  \n",
              "\n",
              "[5 rows x 23 columns]"
            ],
            "text/html": [
              "\n",
              "  <div id=\"df-49d270d3-0e40-481d-bbd1-12f851376a79\" class=\"colab-df-container\">\n",
              "    <div>\n",
              "<style scoped>\n",
              "    .dataframe tbody tr th:only-of-type {\n",
              "        vertical-align: middle;\n",
              "    }\n",
              "\n",
              "    .dataframe tbody tr th {\n",
              "        vertical-align: top;\n",
              "    }\n",
              "\n",
              "    .dataframe thead th {\n",
              "        text-align: right;\n",
              "    }\n",
              "</style>\n",
              "<table border=\"1\" class=\"dataframe\">\n",
              "  <thead>\n",
              "    <tr style=\"text-align: right;\">\n",
              "      <th></th>\n",
              "      <th>LIMIT_BAL</th>\n",
              "      <th>SEX</th>\n",
              "      <th>EDUCATION</th>\n",
              "      <th>MARRIAGE</th>\n",
              "      <th>PAY_1</th>\n",
              "      <th>PAY_2</th>\n",
              "      <th>PAY_3</th>\n",
              "      <th>PAY_4</th>\n",
              "      <th>PAY_5</th>\n",
              "      <th>PAY_6</th>\n",
              "      <th>...</th>\n",
              "      <th>BILL_AMT3</th>\n",
              "      <th>BILL_AMT4</th>\n",
              "      <th>BILL_AMT5</th>\n",
              "      <th>BILL_AMT6</th>\n",
              "      <th>PAY_AMT1</th>\n",
              "      <th>PAY_AMT2</th>\n",
              "      <th>PAY_AMT3</th>\n",
              "      <th>PAY_AMT4</th>\n",
              "      <th>PAY_AMT5</th>\n",
              "      <th>PAY_AMT6</th>\n",
              "    </tr>\n",
              "  </thead>\n",
              "  <tbody>\n",
              "    <tr>\n",
              "      <th>0</th>\n",
              "      <td>-1.148083</td>\n",
              "      <td>2</td>\n",
              "      <td>2</td>\n",
              "      <td>1</td>\n",
              "      <td>2</td>\n",
              "      <td>2</td>\n",
              "      <td>-1</td>\n",
              "      <td>-1</td>\n",
              "      <td>-2</td>\n",
              "      <td>-2</td>\n",
              "      <td>...</td>\n",
              "      <td>-0.844489</td>\n",
              "      <td>-0.854980</td>\n",
              "      <td>-0.846067</td>\n",
              "      <td>-0.827978</td>\n",
              "      <td>-1.001158</td>\n",
              "      <td>-0.773703</td>\n",
              "      <td>-0.904708</td>\n",
              "      <td>-0.884502</td>\n",
              "      <td>-0.882842</td>\n",
              "      <td>-0.866920</td>\n",
              "    </tr>\n",
              "    <tr>\n",
              "      <th>1</th>\n",
              "      <td>-0.366901</td>\n",
              "      <td>2</td>\n",
              "      <td>2</td>\n",
              "      <td>2</td>\n",
              "      <td>-1</td>\n",
              "      <td>2</td>\n",
              "      <td>0</td>\n",
              "      <td>0</td>\n",
              "      <td>0</td>\n",
              "      <td>2</td>\n",
              "      <td>...</td>\n",
              "      <td>-0.801811</td>\n",
              "      <td>-0.778444</td>\n",
              "      <td>-0.759465</td>\n",
              "      <td>-0.745143</td>\n",
              "      <td>-1.001158</td>\n",
              "      <td>-0.685670</td>\n",
              "      <td>-0.606697</td>\n",
              "      <td>-0.559114</td>\n",
              "      <td>-0.882842</td>\n",
              "      <td>-0.228173</td>\n",
              "    </tr>\n",
              "    <tr>\n",
              "      <th>2</th>\n",
              "      <td>-0.601256</td>\n",
              "      <td>2</td>\n",
              "      <td>2</td>\n",
              "      <td>2</td>\n",
              "      <td>0</td>\n",
              "      <td>0</td>\n",
              "      <td>0</td>\n",
              "      <td>0</td>\n",
              "      <td>0</td>\n",
              "      <td>0</td>\n",
              "      <td>...</td>\n",
              "      <td>-0.568893</td>\n",
              "      <td>-0.519758</td>\n",
              "      <td>-0.471387</td>\n",
              "      <td>-0.433004</td>\n",
              "      <td>-0.566536</td>\n",
              "      <td>-0.544137</td>\n",
              "      <td>-0.606697</td>\n",
              "      <td>-0.559114</td>\n",
              "      <td>-0.559640</td>\n",
              "      <td>0.729948</td>\n",
              "    </tr>\n",
              "    <tr>\n",
              "      <th>3</th>\n",
              "      <td>-0.913728</td>\n",
              "      <td>2</td>\n",
              "      <td>2</td>\n",
              "      <td>1</td>\n",
              "      <td>0</td>\n",
              "      <td>0</td>\n",
              "      <td>0</td>\n",
              "      <td>0</td>\n",
              "      <td>0</td>\n",
              "      <td>0</td>\n",
              "      <td>...</td>\n",
              "      <td>0.196266</td>\n",
              "      <td>-0.192677</td>\n",
              "      <td>-0.120193</td>\n",
              "      <td>-0.077427</td>\n",
              "      <td>-0.428533</td>\n",
              "      <td>-0.397227</td>\n",
              "      <td>-0.547095</td>\n",
              "      <td>-0.526575</td>\n",
              "      <td>-0.537339</td>\n",
              "      <td>-0.547546</td>\n",
              "    </tr>\n",
              "    <tr>\n",
              "      <th>4</th>\n",
              "      <td>-0.913728</td>\n",
              "      <td>1</td>\n",
              "      <td>2</td>\n",
              "      <td>1</td>\n",
              "      <td>-1</td>\n",
              "      <td>0</td>\n",
              "      <td>-1</td>\n",
              "      <td>0</td>\n",
              "      <td>0</td>\n",
              "      <td>0</td>\n",
              "      <td>...</td>\n",
              "      <td>-0.091878</td>\n",
              "      <td>-0.365165</td>\n",
              "      <td>-0.366162</td>\n",
              "      <td>-0.342014</td>\n",
              "      <td>-0.428533</td>\n",
              "      <td>2.215885</td>\n",
              "      <td>2.075405</td>\n",
              "      <td>2.043994</td>\n",
              "      <td>-0.660155</td>\n",
              "      <td>-0.650065</td>\n",
              "    </tr>\n",
              "  </tbody>\n",
              "</table>\n",
              "<p>5 rows × 23 columns</p>\n",
              "</div>\n",
              "    <div class=\"colab-df-buttons\">\n",
              "\n",
              "  <div class=\"colab-df-container\">\n",
              "    <button class=\"colab-df-convert\" onclick=\"convertToInteractive('df-49d270d3-0e40-481d-bbd1-12f851376a79')\"\n",
              "            title=\"Convert this dataframe to an interactive table.\"\n",
              "            style=\"display:none;\">\n",
              "\n",
              "  <svg xmlns=\"http://www.w3.org/2000/svg\" height=\"24px\" viewBox=\"0 -960 960 960\">\n",
              "    <path d=\"M120-120v-720h720v720H120Zm60-500h600v-160H180v160Zm220 220h160v-160H400v160Zm0 220h160v-160H400v160ZM180-400h160v-160H180v160Zm440 0h160v-160H620v160ZM180-180h160v-160H180v160Zm440 0h160v-160H620v160Z\"/>\n",
              "  </svg>\n",
              "    </button>\n",
              "\n",
              "  <style>\n",
              "    .colab-df-container {\n",
              "      display:flex;\n",
              "      gap: 12px;\n",
              "    }\n",
              "\n",
              "    .colab-df-convert {\n",
              "      background-color: #E8F0FE;\n",
              "      border: none;\n",
              "      border-radius: 50%;\n",
              "      cursor: pointer;\n",
              "      display: none;\n",
              "      fill: #1967D2;\n",
              "      height: 32px;\n",
              "      padding: 0 0 0 0;\n",
              "      width: 32px;\n",
              "    }\n",
              "\n",
              "    .colab-df-convert:hover {\n",
              "      background-color: #E2EBFA;\n",
              "      box-shadow: 0px 1px 2px rgba(60, 64, 67, 0.3), 0px 1px 3px 1px rgba(60, 64, 67, 0.15);\n",
              "      fill: #174EA6;\n",
              "    }\n",
              "\n",
              "    .colab-df-buttons div {\n",
              "      margin-bottom: 4px;\n",
              "    }\n",
              "\n",
              "    [theme=dark] .colab-df-convert {\n",
              "      background-color: #3B4455;\n",
              "      fill: #D2E3FC;\n",
              "    }\n",
              "\n",
              "    [theme=dark] .colab-df-convert:hover {\n",
              "      background-color: #434B5C;\n",
              "      box-shadow: 0px 1px 3px 1px rgba(0, 0, 0, 0.15);\n",
              "      filter: drop-shadow(0px 1px 2px rgba(0, 0, 0, 0.3));\n",
              "      fill: #FFFFFF;\n",
              "    }\n",
              "  </style>\n",
              "\n",
              "    <script>\n",
              "      const buttonEl =\n",
              "        document.querySelector('#df-49d270d3-0e40-481d-bbd1-12f851376a79 button.colab-df-convert');\n",
              "      buttonEl.style.display =\n",
              "        google.colab.kernel.accessAllowed ? 'block' : 'none';\n",
              "\n",
              "      async function convertToInteractive(key) {\n",
              "        const element = document.querySelector('#df-49d270d3-0e40-481d-bbd1-12f851376a79');\n",
              "        const dataTable =\n",
              "          await google.colab.kernel.invokeFunction('convertToInteractive',\n",
              "                                                    [key], {});\n",
              "        if (!dataTable) return;\n",
              "\n",
              "        const docLinkHtml = 'Like what you see? Visit the ' +\n",
              "          '<a target=\"_blank\" href=https://colab.research.google.com/notebooks/data_table.ipynb>data table notebook</a>'\n",
              "          + ' to learn more about interactive tables.';\n",
              "        element.innerHTML = '';\n",
              "        dataTable['output_type'] = 'display_data';\n",
              "        await google.colab.output.renderOutput(dataTable, element);\n",
              "        const docLink = document.createElement('div');\n",
              "        docLink.innerHTML = docLinkHtml;\n",
              "        element.appendChild(docLink);\n",
              "      }\n",
              "    </script>\n",
              "  </div>\n",
              "\n",
              "\n",
              "<div id=\"df-dd757540-008a-46ed-9392-085c6de561a5\">\n",
              "  <button class=\"colab-df-quickchart\" onclick=\"quickchart('df-dd757540-008a-46ed-9392-085c6de561a5')\"\n",
              "            title=\"Suggest charts\"\n",
              "            style=\"display:none;\">\n",
              "\n",
              "<svg xmlns=\"http://www.w3.org/2000/svg\" height=\"24px\"viewBox=\"0 0 24 24\"\n",
              "     width=\"24px\">\n",
              "    <g>\n",
              "        <path d=\"M19 3H5c-1.1 0-2 .9-2 2v14c0 1.1.9 2 2 2h14c1.1 0 2-.9 2-2V5c0-1.1-.9-2-2-2zM9 17H7v-7h2v7zm4 0h-2V7h2v10zm4 0h-2v-4h2v4z\"/>\n",
              "    </g>\n",
              "</svg>\n",
              "  </button>\n",
              "\n",
              "<style>\n",
              "  .colab-df-quickchart {\n",
              "      --bg-color: #E8F0FE;\n",
              "      --fill-color: #1967D2;\n",
              "      --hover-bg-color: #E2EBFA;\n",
              "      --hover-fill-color: #174EA6;\n",
              "      --disabled-fill-color: #AAA;\n",
              "      --disabled-bg-color: #DDD;\n",
              "  }\n",
              "\n",
              "  [theme=dark] .colab-df-quickchart {\n",
              "      --bg-color: #3B4455;\n",
              "      --fill-color: #D2E3FC;\n",
              "      --hover-bg-color: #434B5C;\n",
              "      --hover-fill-color: #FFFFFF;\n",
              "      --disabled-bg-color: #3B4455;\n",
              "      --disabled-fill-color: #666;\n",
              "  }\n",
              "\n",
              "  .colab-df-quickchart {\n",
              "    background-color: var(--bg-color);\n",
              "    border: none;\n",
              "    border-radius: 50%;\n",
              "    cursor: pointer;\n",
              "    display: none;\n",
              "    fill: var(--fill-color);\n",
              "    height: 32px;\n",
              "    padding: 0;\n",
              "    width: 32px;\n",
              "  }\n",
              "\n",
              "  .colab-df-quickchart:hover {\n",
              "    background-color: var(--hover-bg-color);\n",
              "    box-shadow: 0 1px 2px rgba(60, 64, 67, 0.3), 0 1px 3px 1px rgba(60, 64, 67, 0.15);\n",
              "    fill: var(--button-hover-fill-color);\n",
              "  }\n",
              "\n",
              "  .colab-df-quickchart-complete:disabled,\n",
              "  .colab-df-quickchart-complete:disabled:hover {\n",
              "    background-color: var(--disabled-bg-color);\n",
              "    fill: var(--disabled-fill-color);\n",
              "    box-shadow: none;\n",
              "  }\n",
              "\n",
              "  .colab-df-spinner {\n",
              "    border: 2px solid var(--fill-color);\n",
              "    border-color: transparent;\n",
              "    border-bottom-color: var(--fill-color);\n",
              "    animation:\n",
              "      spin 1s steps(1) infinite;\n",
              "  }\n",
              "\n",
              "  @keyframes spin {\n",
              "    0% {\n",
              "      border-color: transparent;\n",
              "      border-bottom-color: var(--fill-color);\n",
              "      border-left-color: var(--fill-color);\n",
              "    }\n",
              "    20% {\n",
              "      border-color: transparent;\n",
              "      border-left-color: var(--fill-color);\n",
              "      border-top-color: var(--fill-color);\n",
              "    }\n",
              "    30% {\n",
              "      border-color: transparent;\n",
              "      border-left-color: var(--fill-color);\n",
              "      border-top-color: var(--fill-color);\n",
              "      border-right-color: var(--fill-color);\n",
              "    }\n",
              "    40% {\n",
              "      border-color: transparent;\n",
              "      border-right-color: var(--fill-color);\n",
              "      border-top-color: var(--fill-color);\n",
              "    }\n",
              "    60% {\n",
              "      border-color: transparent;\n",
              "      border-right-color: var(--fill-color);\n",
              "    }\n",
              "    80% {\n",
              "      border-color: transparent;\n",
              "      border-right-color: var(--fill-color);\n",
              "      border-bottom-color: var(--fill-color);\n",
              "    }\n",
              "    90% {\n",
              "      border-color: transparent;\n",
              "      border-bottom-color: var(--fill-color);\n",
              "    }\n",
              "  }\n",
              "</style>\n",
              "\n",
              "  <script>\n",
              "    async function quickchart(key) {\n",
              "      const quickchartButtonEl =\n",
              "        document.querySelector('#' + key + ' button');\n",
              "      quickchartButtonEl.disabled = true;  // To prevent multiple clicks.\n",
              "      quickchartButtonEl.classList.add('colab-df-spinner');\n",
              "      try {\n",
              "        const charts = await google.colab.kernel.invokeFunction(\n",
              "            'suggestCharts', [key], {});\n",
              "      } catch (error) {\n",
              "        console.error('Error during call to suggestCharts:', error);\n",
              "      }\n",
              "      quickchartButtonEl.classList.remove('colab-df-spinner');\n",
              "      quickchartButtonEl.classList.add('colab-df-quickchart-complete');\n",
              "    }\n",
              "    (() => {\n",
              "      let quickchartButtonEl =\n",
              "        document.querySelector('#df-dd757540-008a-46ed-9392-085c6de561a5 button');\n",
              "      quickchartButtonEl.style.display =\n",
              "        google.colab.kernel.accessAllowed ? 'block' : 'none';\n",
              "    })();\n",
              "  </script>\n",
              "</div>\n",
              "    </div>\n",
              "  </div>\n"
            ]
          },
          "metadata": {},
          "execution_count": 83
        }
      ],
      "source": [
        "x.head()"
      ]
    },
    {
      "cell_type": "code",
      "execution_count": 84,
      "metadata": {
        "id": "zJ-Kcp4OEiq1"
      },
      "outputs": [],
      "source": [
        "# Splitting data as training and testing data\n",
        "# 75% of dataset is used for training the data while 25% data is used for testing the model"
      ]
    },
    {
      "cell_type": "code",
      "execution_count": 85,
      "metadata": {
        "id": "Y2QzsnPpEmPI"
      },
      "outputs": [],
      "source": [
        "from sklearn.model_selection import train_test_split\n",
        "x_train,x_test,y_train,y_test = train_test_split(x,y,test_size=0.25, random_state=42)"
      ]
    },
    {
      "cell_type": "code",
      "execution_count": 86,
      "metadata": {
        "id": "_FmmA9fBE89A"
      },
      "outputs": [],
      "source": [
        "# Classification\n",
        "\n",
        "# Logistic Regression"
      ]
    },
    {
      "cell_type": "code",
      "execution_count": 87,
      "metadata": {
        "id": "MOp2c6h2KSV_"
      },
      "outputs": [],
      "source": [
        "from sklearn.linear_model import LogisticRegression\n",
        "from sklearn.metrics import accuracy_score,precision_score,recall_score,confusion_matrix\n",
        "lg_reg = LogisticRegression()"
      ]
    },
    {
      "cell_type": "code",
      "execution_count": 88,
      "metadata": {
        "id": "DV1GDBVIKd3E",
        "colab": {
          "base_uri": "https://localhost:8080/",
          "height": 74
        },
        "outputId": "2b6df617-feb3-422e-a387-7bcc53d9d9a5"
      },
      "outputs": [
        {
          "output_type": "execute_result",
          "data": {
            "text/plain": [
              "LogisticRegression()"
            ],
            "text/html": [
              "<style>#sk-container-id-1 {color: black;background-color: white;}#sk-container-id-1 pre{padding: 0;}#sk-container-id-1 div.sk-toggleable {background-color: white;}#sk-container-id-1 label.sk-toggleable__label {cursor: pointer;display: block;width: 100%;margin-bottom: 0;padding: 0.3em;box-sizing: border-box;text-align: center;}#sk-container-id-1 label.sk-toggleable__label-arrow:before {content: \"▸\";float: left;margin-right: 0.25em;color: #696969;}#sk-container-id-1 label.sk-toggleable__label-arrow:hover:before {color: black;}#sk-container-id-1 div.sk-estimator:hover label.sk-toggleable__label-arrow:before {color: black;}#sk-container-id-1 div.sk-toggleable__content {max-height: 0;max-width: 0;overflow: hidden;text-align: left;background-color: #f0f8ff;}#sk-container-id-1 div.sk-toggleable__content pre {margin: 0.2em;color: black;border-radius: 0.25em;background-color: #f0f8ff;}#sk-container-id-1 input.sk-toggleable__control:checked~div.sk-toggleable__content {max-height: 200px;max-width: 100%;overflow: auto;}#sk-container-id-1 input.sk-toggleable__control:checked~label.sk-toggleable__label-arrow:before {content: \"▾\";}#sk-container-id-1 div.sk-estimator input.sk-toggleable__control:checked~label.sk-toggleable__label {background-color: #d4ebff;}#sk-container-id-1 div.sk-label input.sk-toggleable__control:checked~label.sk-toggleable__label {background-color: #d4ebff;}#sk-container-id-1 input.sk-hidden--visually {border: 0;clip: rect(1px 1px 1px 1px);clip: rect(1px, 1px, 1px, 1px);height: 1px;margin: -1px;overflow: hidden;padding: 0;position: absolute;width: 1px;}#sk-container-id-1 div.sk-estimator {font-family: monospace;background-color: #f0f8ff;border: 1px dotted black;border-radius: 0.25em;box-sizing: border-box;margin-bottom: 0.5em;}#sk-container-id-1 div.sk-estimator:hover {background-color: #d4ebff;}#sk-container-id-1 div.sk-parallel-item::after {content: \"\";width: 100%;border-bottom: 1px solid gray;flex-grow: 1;}#sk-container-id-1 div.sk-label:hover label.sk-toggleable__label {background-color: #d4ebff;}#sk-container-id-1 div.sk-serial::before {content: \"\";position: absolute;border-left: 1px solid gray;box-sizing: border-box;top: 0;bottom: 0;left: 50%;z-index: 0;}#sk-container-id-1 div.sk-serial {display: flex;flex-direction: column;align-items: center;background-color: white;padding-right: 0.2em;padding-left: 0.2em;position: relative;}#sk-container-id-1 div.sk-item {position: relative;z-index: 1;}#sk-container-id-1 div.sk-parallel {display: flex;align-items: stretch;justify-content: center;background-color: white;position: relative;}#sk-container-id-1 div.sk-item::before, #sk-container-id-1 div.sk-parallel-item::before {content: \"\";position: absolute;border-left: 1px solid gray;box-sizing: border-box;top: 0;bottom: 0;left: 50%;z-index: -1;}#sk-container-id-1 div.sk-parallel-item {display: flex;flex-direction: column;z-index: 1;position: relative;background-color: white;}#sk-container-id-1 div.sk-parallel-item:first-child::after {align-self: flex-end;width: 50%;}#sk-container-id-1 div.sk-parallel-item:last-child::after {align-self: flex-start;width: 50%;}#sk-container-id-1 div.sk-parallel-item:only-child::after {width: 0;}#sk-container-id-1 div.sk-dashed-wrapped {border: 1px dashed gray;margin: 0 0.4em 0.5em 0.4em;box-sizing: border-box;padding-bottom: 0.4em;background-color: white;}#sk-container-id-1 div.sk-label label {font-family: monospace;font-weight: bold;display: inline-block;line-height: 1.2em;}#sk-container-id-1 div.sk-label-container {text-align: center;}#sk-container-id-1 div.sk-container {/* jupyter's `normalize.less` sets `[hidden] { display: none; }` but bootstrap.min.css set `[hidden] { display: none !important; }` so we also need the `!important` here to be able to override the default hidden behavior on the sphinx rendered scikit-learn.org. See: https://github.com/scikit-learn/scikit-learn/issues/21755 */display: inline-block !important;position: relative;}#sk-container-id-1 div.sk-text-repr-fallback {display: none;}</style><div id=\"sk-container-id-1\" class=\"sk-top-container\"><div class=\"sk-text-repr-fallback\"><pre>LogisticRegression()</pre><b>In a Jupyter environment, please rerun this cell to show the HTML representation or trust the notebook. <br />On GitHub, the HTML representation is unable to render, please try loading this page with nbviewer.org.</b></div><div class=\"sk-container\" hidden><div class=\"sk-item\"><div class=\"sk-estimator sk-toggleable\"><input class=\"sk-toggleable__control sk-hidden--visually\" id=\"sk-estimator-id-1\" type=\"checkbox\" checked><label for=\"sk-estimator-id-1\" class=\"sk-toggleable__label sk-toggleable__label-arrow\">LogisticRegression</label><div class=\"sk-toggleable__content\"><pre>LogisticRegression()</pre></div></div></div></div></div>"
            ]
          },
          "metadata": {},
          "execution_count": 88
        }
      ],
      "source": [
        "lg_reg.fit(x_train,y_train)"
      ]
    },
    {
      "cell_type": "code",
      "execution_count": 89,
      "metadata": {
        "id": "NNocU78zKkpE"
      },
      "outputs": [],
      "source": [
        "y_pred = lg_reg.predict(x_test)"
      ]
    },
    {
      "cell_type": "code",
      "execution_count": 90,
      "metadata": {
        "id": "bvY3c_mKK4Yn",
        "colab": {
          "base_uri": "https://localhost:8080/"
        },
        "outputId": "64647c98-ca65-4c38-cf7e-7571975e4c09"
      },
      "outputs": [
        {
          "output_type": "execute_result",
          "data": {
            "text/plain": [
              "array([[5674,  199],\n",
              "       [1234,  393]])"
            ]
          },
          "metadata": {},
          "execution_count": 90
        }
      ],
      "source": [
        "confusion_matrix(y_test,y_pred)"
      ]
    },
    {
      "cell_type": "code",
      "execution_count": 91,
      "metadata": {
        "id": "kqJoMtR2LE12",
        "colab": {
          "base_uri": "https://localhost:8080/"
        },
        "outputId": "b41e54d7-1a29-4ef6-c9e5-e88ed3b76406"
      },
      "outputs": [
        {
          "output_type": "stream",
          "name": "stdout",
          "text": [
            "Accuracy : 0.8089333333333333\n",
            "Precision:  0.6638513513513513\n"
          ]
        }
      ],
      "source": [
        "accuracy = accuracy_score(y_test,y_pred)\n",
        "precision = precision_score(y_test,y_pred)\n",
        "print('Accuracy :', accuracy)\n",
        "print('Precision: ', precision)"
      ]
    },
    {
      "cell_type": "code",
      "execution_count": 92,
      "metadata": {
        "id": "gatvMIz9LYX-"
      },
      "outputs": [],
      "source": [
        "# k-NN Classifier\n",
        "\n",
        "# We generally go for value of k between 3 & 15"
      ]
    },
    {
      "cell_type": "code",
      "execution_count": 93,
      "metadata": {
        "id": "fLKejuSNMhrp"
      },
      "outputs": [],
      "source": [
        "from sklearn.neighbors import KNeighborsClassifier"
      ]
    },
    {
      "cell_type": "code",
      "execution_count": 94,
      "metadata": {
        "id": "45_oxVhJMofQ"
      },
      "outputs": [],
      "source": [
        "metric_k=[]\n",
        "neighbors = np.arange(3,15)\n",
        "\n",
        "for k in neighbors:\n",
        "  classifier = KNeighborsClassifier(n_neighbors = k, metric='minkowski', p=2) # If p=1, Manhattan;  p = 2, Euclidean\n",
        "  classifier.fit(x_train,y_train)\n",
        "  y_pred_knn = classifier.predict(x_test)\n",
        "  accuracy = accuracy_score(y_test,y_pred_knn)\n",
        "  metric_k.append(accuracy)"
      ]
    },
    {
      "cell_type": "code",
      "execution_count": 95,
      "metadata": {
        "id": "0jlfceCmBIdL",
        "colab": {
          "base_uri": "https://localhost:8080/"
        },
        "outputId": "2c65e6d9-ccc1-4d7f-d15d-3fc6ae3e8531"
      },
      "outputs": [
        {
          "output_type": "execute_result",
          "data": {
            "text/plain": [
              "[0.78,\n",
              " 0.7985333333333333,\n",
              " 0.7973333333333333,\n",
              " 0.804,\n",
              " 0.8008,\n",
              " 0.8041333333333334,\n",
              " 0.8052,\n",
              " 0.8065333333333333,\n",
              " 0.8064,\n",
              " 0.8081333333333334,\n",
              " 0.8094666666666667,\n",
              " 0.8089333333333333]"
            ]
          },
          "metadata": {},
          "execution_count": 95
        }
      ],
      "source": [
        "metric_k"
      ]
    },
    {
      "cell_type": "code",
      "execution_count": 96,
      "metadata": {
        "id": "xHt0jEVRBQML",
        "colab": {
          "base_uri": "https://localhost:8080/",
          "height": 449
        },
        "outputId": "5be2e87a-9fbc-41ba-9b61-4f9118f4ded1"
      },
      "outputs": [
        {
          "output_type": "display_data",
          "data": {
            "text/plain": [
              "<Figure size 640x480 with 1 Axes>"
            ],
            "image/png": "[encoded data removed]"
          },
          "metadata": {}
        }
      ],
      "source": [
        "plt.plot(neighbors, metric_k, 'o-')\n",
        "plt.axvline(13, c ='red')\n",
        "plt.xlabel('k value')\n",
        "plt.ylabel('Accuracy Score')\n",
        "plt.show()"
      ]
    },
    {
      "cell_type": "code",
      "execution_count": 97,
      "metadata": {
        "id": "dcUJgZ7kBQYz"
      },
      "outputs": [],
      "source": [
        "# Since we got best accuracy with k=13"
      ]
    },
    {
      "cell_type": "code",
      "execution_count": 98,
      "metadata": {
        "id": "UtKlL8alBQcP"
      },
      "outputs": [],
      "source": [
        "  classifier = KNeighborsClassifier(n_neighbors = 13, metric='minkowski', p=2) # If p=1, Manhattan;  p = 2, Euclidean\n",
        "  classifier.fit(x_train,y_train)\n",
        "  y_pred_knn = classifier.predict(x_test)"
      ]
    },
    {
      "cell_type": "code",
      "execution_count": 99,
      "metadata": {
        "id": "LHOvCMS0DPor",
        "colab": {
          "base_uri": "https://localhost:8080/"
        },
        "outputId": "8d5e4769-65fb-423e-9f86-6a2550f57dd5"
      },
      "outputs": [
        {
          "output_type": "execute_result",
          "data": {
            "text/plain": [
              "array([[5517,  356],\n",
              "       [1073,  554]])"
            ]
          },
          "metadata": {},
          "execution_count": 99
        }
      ],
      "source": [
        "confusion_matrix(y_test,y_pred_knn)"
      ]
    },
    {
      "cell_type": "code",
      "execution_count": 100,
      "metadata": {
        "id": "kzDP-SGWDRXh",
        "colab": {
          "base_uri": "https://localhost:8080/"
        },
        "outputId": "d97e031d-603c-4f40-d20b-b258093c2ade"
      },
      "outputs": [
        {
          "output_type": "stream",
          "name": "stdout",
          "text": [
            "Accuracy : 0.8094666666666667\n",
            "Precision:  0.6087912087912087\n"
          ]
        }
      ],
      "source": [
        "accuracy = accuracy_score(y_test,y_pred_knn)\n",
        "precision = precision_score(y_test,y_pred_knn)\n",
        "print('Accuracy :', accuracy)\n",
        "print('Precision: ', precision)"
      ]
    },
    {
      "cell_type": "code",
      "execution_count": 101,
      "metadata": {
        "id": "jfRjJI6hDaCU"
      },
      "outputs": [],
      "source": [
        "# We have completed kNN model of classification\n",
        "\n",
        "# Next type of classification is SVM"
      ]
    },
    {
      "cell_type": "code",
      "execution_count": 102,
      "metadata": {
        "id": "YsIdJWy0DqkM"
      },
      "outputs": [],
      "source": [
        "# SVM"
      ]
    },
    {
      "cell_type": "code",
      "execution_count": 103,
      "metadata": {
        "id": "XqqlbjuQDr2B"
      },
      "outputs": [],
      "source": [
        "from sklearn.svm import SVC\n",
        "sv = SVC(kernel = 'linear')"
      ]
    },
    {
      "cell_type": "code",
      "execution_count": 104,
      "metadata": {
        "id": "mdwGSH3QFIhX",
        "colab": {
          "base_uri": "https://localhost:8080/"
        },
        "outputId": "00b7e4fb-2ff4-4d41-8218-366133f1b6bc"
      },
      "outputs": [
        {
          "output_type": "execute_result",
          "data": {
            "text/plain": [
              "array([[5700,  173],\n",
              "       [1261,  366]])"
            ]
          },
          "metadata": {},
          "execution_count": 104
        }
      ],
      "source": [
        "sv.fit(x_train,y_train)\n",
        "y_pred_sv = sv.predict(x_test)\n",
        "confusion_matrix(y_test,y_pred_sv)"
      ]
    },
    {
      "cell_type": "code",
      "execution_count": 105,
      "metadata": {
        "id": "pi4_3mBQFO-q",
        "colab": {
          "base_uri": "https://localhost:8080/"
        },
        "outputId": "5ab5e614-593d-4f7f-e296-7b03cff86a8d"
      },
      "outputs": [
        {
          "output_type": "stream",
          "name": "stdout",
          "text": [
            "Accuracy : 0.8088\n",
            "Precision:  0.6790352504638218\n"
          ]
        }
      ],
      "source": [
        "accuracy = accuracy_score(y_test,y_pred_sv)\n",
        "precision = precision_score(y_test,y_pred_sv)\n",
        "print('Accuracy :', accuracy)\n",
        "print('Precision: ', precision)"
      ]
    },
    {
      "cell_type": "code",
      "execution_count": 106,
      "metadata": {
        "id": "o5-ENjHQFarh"
      },
      "outputs": [],
      "source": [
        "# SVM with kernel = 'polynomial'"
      ]
    },
    {
      "cell_type": "code",
      "execution_count": 107,
      "metadata": {
        "id": "W1uSs8yYFayW",
        "colab": {
          "base_uri": "https://localhost:8080/"
        },
        "outputId": "bba98e23-a694-41d3-8017-a2d96a95ef85"
      },
      "outputs": [
        {
          "output_type": "execute_result",
          "data": {
            "text/plain": [
              "array([[5639,  234],\n",
              "       [1151,  476]])"
            ]
          },
          "metadata": {},
          "execution_count": 107
        }
      ],
      "source": [
        "sv1 = SVC(kernel = 'poly', degree=3)\n",
        "sv1.fit(x_train,y_train)\n",
        "y_pred1 = sv1.predict(x_test)\n",
        "confusion_matrix(y_test,y_pred1)"
      ]
    },
    {
      "cell_type": "code",
      "execution_count": 108,
      "metadata": {
        "id": "0WBYds96Fa1z",
        "colab": {
          "base_uri": "https://localhost:8080/"
        },
        "outputId": "4f5bea68-845d-444c-9443-e897aa499678"
      },
      "outputs": [
        {
          "output_type": "stream",
          "name": "stdout",
          "text": [
            "Accuracy : 0.8153333333333334\n",
            "Precision:  0.6704225352112676\n"
          ]
        }
      ],
      "source": [
        "accuracy = accuracy_score(y_test,y_pred1)\n",
        "precision = precision_score(y_test,y_pred1)\n",
        "print('Accuracy :', accuracy)\n",
        "print('Precision: ', precision)"
      ]
    },
    {
      "cell_type": "code",
      "execution_count": 109,
      "metadata": {
        "id": "94pCzR7hFa7p"
      },
      "outputs": [],
      "source": [
        "# SVM with kernel = 'rbf'"
      ]
    },
    {
      "cell_type": "code",
      "execution_count": 110,
      "metadata": {
        "id": "Pu8hhD2rGbyE",
        "colab": {
          "base_uri": "https://localhost:8080/"
        },
        "outputId": "03e705d6-d4ef-4221-8ed4-975abaeda64c"
      },
      "outputs": [
        {
          "output_type": "execute_result",
          "data": {
            "text/plain": [
              "array([[5590,  283],\n",
              "       [1077,  550]])"
            ]
          },
          "metadata": {},
          "execution_count": 110
        }
      ],
      "source": [
        "sv2 = SVC(kernel = 'rbf')\n",
        "sv2.fit(x_train,y_train)\n",
        "y_pred2 = sv2.predict(x_test)\n",
        "confusion_matrix(y_test,y_pred2)"
      ]
    },
    {
      "cell_type": "code",
      "execution_count": 111,
      "metadata": {
        "id": "Updj4YtIGb07",
        "colab": {
          "base_uri": "https://localhost:8080/"
        },
        "outputId": "36e7de42-1a9c-49e9-aceb-9c7d41534674"
      },
      "outputs": [
        {
          "output_type": "stream",
          "name": "stdout",
          "text": [
            "Accuracy : 0.8186666666666667\n",
            "Precision:  0.6602641056422569\n"
          ]
        }
      ],
      "source": [
        "accuracy = accuracy_score(y_test,y_pred2)\n",
        "precision = precision_score(y_test,y_pred2)\n",
        "print('Accuracy :', accuracy)\n",
        "print('Precision: ', precision)"
      ]
    },
    {
      "cell_type": "code",
      "execution_count": 112,
      "metadata": {
        "id": "LurQmmXhGb4C"
      },
      "outputs": [],
      "source": [
        "# Naive Bayes Classification"
      ]
    },
    {
      "cell_type": "code",
      "execution_count": 113,
      "metadata": {
        "id": "HcpB-DMLGz5W"
      },
      "outputs": [],
      "source": [
        "from sklearn.naive_bayes import GaussianNB\n",
        "gnb = GaussianNB()\n",
        "gnb.fit(x_train, y_train)\n",
        "y_pred_gnb = gnb.predict(x_test)"
      ]
    },
    {
      "cell_type": "code",
      "execution_count": 114,
      "metadata": {
        "id": "rsRD27C_Gz84",
        "colab": {
          "base_uri": "https://localhost:8080/"
        },
        "outputId": "aee86f97-6b54-475b-b423-eb51dd461965"
      },
      "outputs": [
        {
          "output_type": "execute_result",
          "data": {
            "text/plain": [
              "array([[5052,  821],\n",
              "       [ 819,  808]])"
            ]
          },
          "metadata": {},
          "execution_count": 114
        }
      ],
      "source": [
        "confusion_matrix(y_test,y_pred_gnb)"
      ]
    },
    {
      "cell_type": "code",
      "execution_count": 115,
      "metadata": {
        "id": "lE4kPqqCHSJQ",
        "colab": {
          "base_uri": "https://localhost:8080/"
        },
        "outputId": "5fca68a6-cae5-42b4-d500-03580bedf680"
      },
      "outputs": [
        {
          "output_type": "stream",
          "name": "stdout",
          "text": [
            "Accuracy : 0.7813333333333333\n",
            "Precision:  0.4960098219766728\n"
          ]
        }
      ],
      "source": [
        "accuracy = accuracy_score(y_test,y_pred_gnb)\n",
        "precision = precision_score(y_test,y_pred_gnb)\n",
        "print('Accuracy :', accuracy)\n",
        "print('Precision: ', precision)"
      ]
    },
    {
      "cell_type": "code",
      "execution_count": 116,
      "metadata": {
        "id": "SDYU0bPKHaPr"
      },
      "outputs": [],
      "source": [
        "# AdaBoosting Classification\n",
        "\n",
        "\n",
        "from sklearn.ensemble import AdaBoostClassifier\n",
        "\n",
        "ada_boost_clf = AdaBoostClassifier(n_estimators=100)\n",
        "ada_boost_clf.fit(x_train,y_train)\n",
        "y_pred3 = ada_boost_clf.predict(x_test)"
      ]
    },
    {
      "cell_type": "code",
      "execution_count": 117,
      "metadata": {
        "id": "xTEPBD7YJ0FM",
        "colab": {
          "base_uri": "https://localhost:8080/"
        },
        "outputId": "9ffbb2dc-7316-48a5-8877-3d238875b51d"
      },
      "outputs": [
        {
          "output_type": "execute_result",
          "data": {
            "text/plain": [
              "array([[5615,  258],\n",
              "       [1111,  516]])"
            ]
          },
          "metadata": {},
          "execution_count": 117
        }
      ],
      "source": [
        "confusion_matrix(y_test,y_pred3)"
      ]
    },
    {
      "cell_type": "code",
      "execution_count": 118,
      "metadata": {
        "id": "RdQh7u1OJ-aP",
        "colab": {
          "base_uri": "https://localhost:8080/"
        },
        "outputId": "d9defc37-cb93-4981-ead0-a73b66747e91"
      },
      "outputs": [
        {
          "output_type": "stream",
          "name": "stdout",
          "text": [
            "Accuracy : 0.8174666666666667\n",
            "Precision:  0.6666666666666666\n"
          ]
        }
      ],
      "source": [
        "accuracy = accuracy_score(y_test,y_pred3)\n",
        "precision = precision_score(y_test,y_pred3)\n",
        "print('Accuracy :', accuracy)\n",
        "print('Precision: ', precision)"
      ]
    },
    {
      "cell_type": "code",
      "execution_count": 119,
      "metadata": {
        "id": "YrMJD2zuKSGC"
      },
      "outputs": [],
      "source": [
        "# Gradient Boosting Classifier\n",
        "\n",
        "\n",
        "from sklearn.ensemble import GradientBoostingClassifier\n",
        "\n",
        "grad_boost_clf = GradientBoostingClassifier(n_estimators=100)\n",
        "grad_boost_clf.fit(x_train,y_train)\n",
        "y_pred3 = grad_boost_clf.predict(x_test)"
      ]
    },
    {
      "cell_type": "code",
      "execution_count": 120,
      "metadata": {
        "id": "J6_8U_PnP8y4",
        "colab": {
          "base_uri": "https://localhost:8080/"
        },
        "outputId": "48462994-d3e1-4d6d-8211-546c39e74fe3"
      },
      "outputs": [
        {
          "output_type": "execute_result",
          "data": {
            "text/plain": [
              "array([[5576,  297],\n",
              "       [1049,  578]])"
            ]
          },
          "metadata": {},
          "execution_count": 120
        }
      ],
      "source": [
        "confusion_matrix(y_test,y_pred3)"
      ]
    },
    {
      "cell_type": "code",
      "execution_count": 121,
      "metadata": {
        "id": "GHu4CPCdQBRd",
        "colab": {
          "base_uri": "https://localhost:8080/"
        },
        "outputId": "2c29ca70-9bd6-4aa6-8056-ca098f547b23"
      },
      "outputs": [
        {
          "output_type": "stream",
          "name": "stdout",
          "text": [
            "Accuracy : 0.8205333333333333\n",
            "Precision:  0.6605714285714286\n"
          ]
        }
      ],
      "source": [
        "accuracy = accuracy_score(y_test,y_pred3)\n",
        "precision = precision_score(y_test,y_pred3)\n",
        "print('Accuracy :', accuracy)\n",
        "print('Precision: ', precision)"
      ]
    },
    {
      "cell_type": "code",
      "execution_count": 122,
      "metadata": {
        "id": "vstKn5b0QHHW"
      },
      "outputs": [],
      "source": [
        "# XGBoost Method\n",
        "\n",
        "\n",
        "import xgboost as xgb\n",
        "\n",
        "xg_boost_clf = xgb.XGBClassifier()\n",
        "xg_boost_clf.fit(x_train,y_train)\n",
        "y_pred4 = xg_boost_clf.predict(x_test)"
      ]
    },
    {
      "cell_type": "code",
      "execution_count": 123,
      "metadata": {
        "id": "zCWJlXS_QLu6",
        "colab": {
          "base_uri": "https://localhost:8080/"
        },
        "outputId": "bc353097-a466-49e4-cb9e-e6e0d6e06ab6"
      },
      "outputs": [
        {
          "output_type": "execute_result",
          "data": {
            "text/plain": [
              "array([[5500,  373],\n",
              "       [1023,  604]])"
            ]
          },
          "metadata": {},
          "execution_count": 123
        }
      ],
      "source": [
        "confusion_matrix(y_test,y_pred4)"
      ]
    },
    {
      "cell_type": "code",
      "execution_count": 124,
      "metadata": {
        "id": "3OKeGccEQSAY",
        "colab": {
          "base_uri": "https://localhost:8080/"
        },
        "outputId": "c58aa576-deee-4fc3-cffe-9d888c3010a0"
      },
      "outputs": [
        {
          "output_type": "stream",
          "name": "stdout",
          "text": [
            "Accuracy : 0.8138666666666666\n",
            "Precision:  0.6182190378710338\n"
          ]
        }
      ],
      "source": [
        "accuracy = accuracy_score(y_test,y_pred4)\n",
        "precision = precision_score(y_test,y_pred4)\n",
        "print('Accuracy :', accuracy)\n",
        "print('Precision: ', precision)"
      ]
    },
    {
      "cell_type": "code",
      "execution_count": 125,
      "metadata": {
        "id": "aWJa6N4Pq2mN"
      },
      "outputs": [],
      "source": [
        "# Cross Validation\n",
        "# In cross validation we make a fixed number of folds on the data, run the analysis on each fold and then average the error estimates\n",
        "# 2 types of Cross Validation are: K-Fold Cross Validation & Stratified Cross Validation"
      ]
    },
    {
      "cell_type": "code",
      "execution_count": 126,
      "metadata": {
        "id": "NFn1NxBFq2or"
      },
      "outputs": [],
      "source": [
        "# K-Fold Cross Validation on Logistic Regression Model\n",
        "\n",
        "from sklearn.model_selection import cross_val_score, KFold\n",
        "from sklearn.linear_model import LogisticRegression\n",
        "from sklearn.metrics import accuracy_score,precision_score,recall_score,confusion_matrix\n",
        "lg_reg = LogisticRegression()\n",
        "kf = KFold(n_splits = 10)"
      ]
    },
    {
      "cell_type": "code",
      "execution_count": 127,
      "metadata": {
        "id": "h33RyHZ6q2rK",
        "colab": {
          "base_uri": "https://localhost:8080/"
        },
        "outputId": "537cac91-69b9-4e24-eac0-d6b61d418554"
      },
      "outputs": [
        {
          "output_type": "stream",
          "name": "stdout",
          "text": [
            "K-Fold Cross Validation scores:  [0.79533333 0.80666667 0.79533333 0.79633333 0.80266667 0.789\n",
            " 0.82133333 0.82966667 0.824      0.81166667]\n",
            "Average K-Fold Cross Validation Score :  0.8072000000000001\n"
          ]
        }
      ],
      "source": [
        "# Taking values for each cross validation\n",
        "\n",
        "score = cross_val_score(lg_reg,x,y,cv = kf) # cv is used to tell number of cross validations in our case 10\n",
        "print('K-Fold Cross Validation scores: ', score)\n",
        "print('Average K-Fold Cross Validation Score : ', score.mean())"
      ]
    },
    {
      "cell_type": "code",
      "execution_count": 128,
      "metadata": {
        "id": "yO5TLI2Rq2tr"
      },
      "outputs": [],
      "source": [
        "# Stratified Cross Validation on Logistic Regression Model\n",
        "\n",
        "from sklearn.model_selection import StratifiedKFold\n",
        "skfold = StratifiedKFold(n_splits = 10)"
      ]
    },
    {
      "cell_type": "code",
      "execution_count": 129,
      "metadata": {
        "id": "RtTStPXRtNDP",
        "colab": {
          "base_uri": "https://localhost:8080/"
        },
        "outputId": "606a11aa-8df8-47ad-f515-2d9cc9d55a96"
      },
      "outputs": [
        {
          "output_type": "stream",
          "name": "stdout",
          "text": [
            "K-Fold Cross Validation scores:  [0.79533333 0.80666667 0.79533333 0.79633333 0.80266667 0.789\n",
            " 0.82133333 0.82966667 0.824      0.81166667]\n",
            "Average K-Fold Cross Validation Score :  0.8072000000000001\n"
          ]
        }
      ],
      "source": [
        "# Taking values for each cross validation\n",
        "\n",
        "skfold_score = cross_val_score(lg_reg,x,y, cv=skfold) # cv is used to tell number of cross validations in our case 10\n",
        "print('K-Fold Cross Validation scores: ', score)\n",
        "print('Average K-Fold Cross Validation Score : ', score.mean())"
      ]
    },
    {
      "cell_type": "code",
      "execution_count": 130,
      "metadata": {
        "id": "TZNF4I5iq2v0"
      },
      "outputs": [],
      "source": [
        "# Performing K-Fold Cross Validation on KNN, SVM, Gradient Boosting, Ada Boosting, XGBoosting"
      ]
    },
    {
      "cell_type": "code",
      "execution_count": null,
      "metadata": {
        "id": "rOnvRQ89q2yd"
      },
      "outputs": [],
      "source": [
        "classifier = KNeighborsClassifier(n_neighbors = 13, metric='minkowski', p=2) # If p=1, Manhattan;  p = 2, Euclidean\n",
        "sv = SVC(kernel = 'linear')\n",
        "sv1 = SVC(kernel = 'poly', degree=3)\n",
        "sv2 = SVC(kernel = 'rbf')\n",
        "gnb = GaussianNB()\n",
        "ada_boost_clf = AdaBoostClassifier(n_estimators=100)\n",
        "grad_boost_clf = GradientBoostingClassifier(n_estimators=100)\n",
        "xg_boost_clf = xgb.XGBClassifier()\n",
        "kf = KFold(n_splits = 10)\n",
        "\n",
        "score_classifier = cross_val_score(classifier,x,y,cv = kf) # KNN\n",
        "score_sv = cross_val_score(sv,x,y,cv = kf)  # SVM with kernel= 'linear'\n",
        "score_sv1 = cross_val_score(sv1,x,y,cv = kf)  # SVM with kernel= 'poly'\n",
        "score_sv2 = cross_val_score(sv2,x,y,cv = kf)  # SVM with kernel= 'rbf'\n",
        "score_gnb = cross_val_score(gnb,x,y,cv = kf)  # Naive Bayes Classification\n",
        "score_ada = cross_val_score(ada_boost_clf,x,y,cv = kf)  # AdaBoost Classification\n",
        "score_grad = cross_val_score(grad_boost_clf,x,y,cv = kf)  # Gradient Boosting Classification\n",
        "score_xg = cross_val_score(xg_boost_clf,x,y,cv = kf)  # XGBoost Classification\n",
        "\n",
        "print(' KNN Average K-Fold Cross Validation Score: ', score_classifier.mean())\n",
        "print(' SVM with kernel= linear Average K-Fold Cross Validation Score: ', score_sv.mean())\n",
        "print(' SVM with kernel= poly Average K-Fold Cross Validation Score: ', score_sv1.mean())\n",
        "print(' SVM with kernel= rbf Average K-Fold Cross Validation Score: ', score_sv2.mean())\n",
        "print(' Naive Bayes Average K-Fold Cross Validation Score: ', score_gnb.mean())\n",
        "print(' AdaBoost Average K-Fold Cross Validation Score: ', score_ada.mean())\n",
        "print(' Gradient Boosting Average K-Fold Cross Validation Score: ', score_grad.mean())\n",
        "print(' XGBoost Average K-Fold Cross Validation Score: ', score_xg.mean())"
      ]
    },
    {
      "cell_type": "code",
      "execution_count": 131,
      "metadata": {
        "id": "21Czh7W5Qa80"
      },
      "outputs": [],
      "source": [
        "# We want a better accuracy score and precision score, for this we do something called HyperParameter Tuning\n",
        "# In Hyperparameter tuning we select the best parameters for our model to get the best score\n",
        "\n"
      ]
    },
    {
      "cell_type": "code",
      "execution_count": 132,
      "metadata": {
        "id": "1YxYfO7-psDI",
        "colab": {
          "base_uri": "https://localhost:8080/"
        },
        "outputId": "5ede0979-f35e-481e-91c6-baf6a37eda78"
      },
      "outputs": [
        {
          "output_type": "stream",
          "name": "stdout",
          "text": [
            "Best Parameter:  {'C': 10, 'penalty': 'l2'}\n",
            "Best Score:  0.8095111111111111\n"
          ]
        },
        {
          "output_type": "stream",
          "name": "stderr",
          "text": [
            "/usr/local/lib/python3.10/dist-packages/sklearn/model_selection/_validation.py:378: FitFailedWarning: \n",
            "35 fits failed out of a total of 70.\n",
            "The score on these train-test partitions for these parameters will be set to nan.\n",
            "If these failures are not expected, you can try to debug them by setting error_score='raise'.\n",
            "\n",
            "Below are more details about the failures:\n",
            "--------------------------------------------------------------------------------\n",
            "35 fits failed with the following error:\n",
            "Traceback (most recent call last):\n",
            "  File \"/usr/local/lib/python3.10/dist-packages/sklearn/model_selection/_validation.py\", line 686, in _fit_and_score\n",
            "    estimator.fit(X_train, y_train, **fit_params)\n",
            "  File \"/usr/local/lib/python3.10/dist-packages/sklearn/linear_model/_logistic.py\", line 1162, in fit\n",
            "    solver = _check_solver(self.solver, self.penalty, self.dual)\n",
            "  File \"/usr/local/lib/python3.10/dist-packages/sklearn/linear_model/_logistic.py\", line 54, in _check_solver\n",
            "    raise ValueError(\n",
            "ValueError: Solver lbfgs supports only 'l2' or 'none' penalties, got l1 penalty.\n",
            "\n",
            "  warnings.warn(some_fits_failed_message, FitFailedWarning)\n",
            "/usr/local/lib/python3.10/dist-packages/sklearn/model_selection/_search.py:952: UserWarning: One or more of the test scores are non-finite: [       nan 0.80271111        nan 0.80831111        nan 0.80911111\n",
            "        nan 0.80942222        nan 0.80951111        nan 0.80951111\n",
            "        nan 0.80951111]\n",
            "  warnings.warn(\n"
          ]
        }
      ],
      "source": [
        "# Grid Search CV\n",
        "from sklearn.model_selection import GridSearchCV\n",
        "\n",
        "# Grid Search CV for Logistic Regression Classification\n",
        "\n",
        "parameters = {'C': [0.001, 0.01, 0.1, 1, 10, 100, 1000],\n",
        "              'penalty': ['l1', 'l2']}\n",
        "lg_reg = LogisticRegression()\n",
        "grid_search = GridSearchCV(lg_reg, parameters, cv=5)\n",
        "grid_result = grid_search.fit(x_train,y_train)\n",
        "# get the best model from the grid search\n",
        "print('Best Parameter: ', grid_result.best_params_)\n",
        "print('Best Score: ', grid_result.best_score_)"
      ]
    },
    {
      "cell_type": "code",
      "source": [
        "# Grid Search CV for KNN Classification\n",
        "\n",
        "params = {\n",
        "    'n_neighbors': [3,5,7,9],\n",
        "    'weights': ['uniform', 'distance'],\n",
        "    'metric': ['euclidean', 'manhattan']\n",
        "}\n",
        "classifier = KNeighborsClassifier()\n",
        "# create a grid search object\n",
        "grid_search = GridSearchCV(classifier, params, cv=5)\n",
        "grid_result = grid_search.fit(x_train,y_train)\n",
        "# get the best model from the grid search\n",
        "print('Best Parameter: ', grid_result.best_params_)\n",
        "print('Best Score: ', grid_result.best_score_)"
      ],
      "metadata": {
        "id": "bLgwZFAcxXzd",
        "colab": {
          "base_uri": "https://localhost:8080/"
        },
        "outputId": "2cbe9a3f-95e0-419d-a724-868e21d2bf2f"
      },
      "execution_count": 133,
      "outputs": [
        {
          "output_type": "stream",
          "name": "stdout",
          "text": [
            "Best Parameter:  {'metric': 'euclidean', 'n_neighbors': 9, 'weights': 'distance'}\n",
            "Best Score:  0.8039999999999999\n"
          ]
        }
      ]
    },
    {
      "cell_type": "code",
      "source": [
        "# Grid Search CV for SVM Classification\n",
        "\n",
        "param_grid = {\n",
        "    'C': [0.1, 1, 10, 100],\n",
        "    'gamma': [1, 0.1, 0.01, 0.001],\n",
        "    'kernel': ['rbf', 'poly', 'sigmoid']\n",
        "}\n",
        "svm = SVC()\n",
        "grid_search = GridSearchCV(svm, param_grid, cv=5)\n",
        "grid_result = grid_search.fit(x_train, y_train)\n",
        "# get the best model from the grid search\n",
        "print('Best Parameter: ', grid_result.best_params_)\n",
        "print('Best Score: ', grid_result.best_score_)"
      ],
      "metadata": {
        "id": "rnDYhOQhxX13"
      },
      "execution_count": null,
      "outputs": []
    },
    {
      "cell_type": "code",
      "source": [
        "# Grid search CV for Naive Bayes Classification\n",
        "\n",
        "from sklearn.metrics import accuracy_score, classification_report\n",
        "gnb = GaussianNB()\n",
        "\n",
        "param_grid = {\n",
        "    'var_smoothing': np.logspace(0,-9, num=100)\n",
        "}\n",
        "grid_search = GridSearchCV(gnb, param_grid, cv=5)\n",
        "grid_result = grid_search.fit(x_train,y_train)\n",
        "# Get the best model from Grid Search\n",
        "print('Best Parameter: ', grid_result.best_params_)\n",
        "\n",
        "y_pred = grid_search.predict(x_test)\n",
        "\n",
        "print(\"Accuracy: \", accuracy_score(y_test, y_pred))\n",
        "print(\"Classification Report: \\n\", classification_report(y_test, y_pred))"
      ],
      "metadata": {
        "id": "uliYVDAixX5G",
        "colab": {
          "base_uri": "https://localhost:8080/"
        },
        "outputId": "fe064597-528e-466a-ace4-a5d4b1769241"
      },
      "execution_count": 135,
      "outputs": [
        {
          "output_type": "stream",
          "name": "stdout",
          "text": [
            "Best Parameter:  {'var_smoothing': 1.0}\n",
            "Accuracy:  0.8044\n",
            "Classification Report: \n",
            "               precision    recall  f1-score   support\n",
            "\n",
            "           0       0.83      0.94      0.88      5873\n",
            "           1       0.59      0.32      0.41      1627\n",
            "\n",
            "    accuracy                           0.80      7500\n",
            "   macro avg       0.71      0.63      0.65      7500\n",
            "weighted avg       0.78      0.80      0.78      7500\n",
            "\n"
          ]
        }
      ]
    },
    {
      "cell_type": "code",
      "source": [
        "# Grid Search CV for AdaBoost Classification\n",
        "\n",
        "\n",
        "model = AdaBoostClassifier()\n",
        "# define the parameter grid for grid search\n",
        "param_grid = {\n",
        "    'n_estimators': [50, 100, 200],\n",
        "    'learning_rate': [0.01, 0.1, 1],\n",
        "    'algorithm': ['SAMME', 'SAMME.R']\n",
        "}\n",
        "\n",
        "# initialize grid search cv\n",
        "grid_search = GridSearchCV(estimator=model, param_grid=param_grid, cv=5, scoring='accuracy')\n",
        "\n",
        "# fit grid search cv to data\n",
        "grid_search.fit(x, y)\n",
        "\n",
        "# print the best parameters\n",
        "print(f\"Best Parameters: {grid_search.best_params_}\")\n",
        "\n",
        "# print the best score\n",
        "print(f\"Best Score: {grid_search.best_score_}\")\n",
        "\n",
        "# make predictions using the best model\n",
        "predictions = grid_search.predict(x)\n",
        "\n",
        "# print the classification report\n",
        "print(classification_report(y, predictions))"
      ],
      "metadata": {
        "id": "Di47vK6w2qyG",
        "colab": {
          "base_uri": "https://localhost:8080/"
        },
        "outputId": "e7f32f60-de72-44ad-c046-5c0b5089e4a7"
      },
      "execution_count": 136,
      "outputs": [
        {
          "output_type": "stream",
          "name": "stdout",
          "text": [
            "Best Parameters: {'algorithm': 'SAMME', 'learning_rate': 0.01, 'n_estimators': 50}\n",
            "Best Score: 0.8196\n",
            "              precision    recall  f1-score   support\n",
            "\n",
            "           0       0.83      0.96      0.89     23364\n",
            "           1       0.70      0.33      0.45      6636\n",
            "\n",
            "    accuracy                           0.82     30000\n",
            "   macro avg       0.76      0.64      0.67     30000\n",
            "weighted avg       0.80      0.82      0.79     30000\n",
            "\n"
          ]
        }
      ]
    },
    {
      "cell_type": "code",
      "source": [
        "# Grid Search CV for Gradient Boosting Classification\n",
        "\n",
        "param_grid = {\n",
        "    'n_estimators': [50, 100, 200],\n",
        "    'learning_rate': [0.01, 0.1, 1],\n",
        "    'max_depth': [3, 5, 7]\n",
        "}\n",
        "model = GradientBoostingClassifier()\n",
        "\n",
        "# initialize grid search cv\n",
        "grid_search = GridSearchCV(estimator=model, param_grid=param_grid, cv=5, scoring='accuracy')\n",
        "\n",
        "# fit grid search cv to data\n",
        "grid_search.fit(x, y)\n",
        "\n",
        "# print the best parameters\n",
        "print(f\"Best Parameters: {grid_search.best_params_}\")\n",
        "\n",
        "# print the best score\n",
        "print(f\"Best Score: {grid_search.best_score_}\")"
      ],
      "metadata": {
        "id": "OQKoOMXT2q09",
        "colab": {
          "base_uri": "https://localhost:8080/"
        },
        "outputId": "dbe5194a-9f8e-43e3-b810-8fa5567b601c"
      },
      "execution_count": 137,
      "outputs": [
        {
          "output_type": "stream",
          "name": "stdout",
          "text": [
            "Best Parameters: {'learning_rate': 0.1, 'max_depth': 3, 'n_estimators': 50}\n",
            "Best Score: 0.8217333333333334\n"
          ]
        }
      ]
    },
    {
      "cell_type": "code",
      "source": [
        "# Grid Search CV for XGBoost Classification\n",
        "\n",
        "param_grid = {\n",
        "    'learning_rate': [0.01, 0.1],\n",
        "    'max_depth': [4, 6],\n",
        "    'min_child_weight': [6, 8],\n",
        "    'n_estimators': [100, 200],\n",
        "    'gamma': [0, 0.5],\n",
        "    'colsample_bytree': [0.8, 1],\n",
        "    'subsample': [0.8, 1],\n",
        "    'reg_alpha': [0, 0.5],\n",
        "    'reg_lambda': [0, 0.5]\n",
        "}\n",
        "model = xgb.XGBClassifier(use_label_encoder=False, eval_metric='logloss')\n",
        "grid_search = GridSearchCV(estimator=model, param_grid=param_grid, scoring='accuracy', cv=5, n_jobs=-1)\n",
        "\n",
        "# fit grid search cv to data\n",
        "grid_search.fit(x_train, y_train)\n",
        "\n",
        "# print the best parameters\n",
        "print(f\"Best Parameters: {grid_search.best_params_}\")\n",
        "\n",
        "# print the best score\n",
        "print(f\"Best Score: {grid_search.best_score_}\")"
      ],
      "metadata": {
        "id": "wdONT0z82q4P",
        "colab": {
          "base_uri": "https://localhost:8080/"
        },
        "outputId": "c622d17f-5edc-4bb7-a1eb-098be89d0a77"
      },
      "execution_count": 138,
      "outputs": [
        {
          "output_type": "stream",
          "name": "stdout",
          "text": [
            "Best Parameters: {'colsample_bytree': 1, 'gamma': 0, 'learning_rate': 0.1, 'max_depth': 4, 'min_child_weight': 8, 'n_estimators': 100, 'reg_alpha': 0, 'reg_lambda': 0, 'subsample': 0.8}\n",
            "Best Score: 0.8219555555555556\n"
          ]
        }
      ]
    },
    {
      "cell_type": "code",
      "source": [
        "# Grid Search CV however is very computationaly intensive and takes a lot of time\n",
        "# Therefore we go for Randomized Search CV that picks out parameters at random"
      ],
      "metadata": {
        "id": "enmZL8pkCBJv"
      },
      "execution_count": 139,
      "outputs": []
    },
    {
      "cell_type": "code",
      "source": [
        "# Randomized Search CV\n",
        "\n",
        "from sklearn.model_selection import RandomizedSearchCV"
      ],
      "metadata": {
        "id": "8LY24xGDCBVn"
      },
      "execution_count": 140,
      "outputs": []
    },
    {
      "cell_type": "code",
      "source": [
        "# Randomized Search CV for Logistic Regression\n",
        "\n",
        "param_grid = {\n",
        "    'C': np.logspace(-4, 4, 50),\n",
        "    'penalty': ['l1', 'l2'],\n",
        "    'class_weight': ['balanced', None]\n",
        "}\n",
        "model = LogisticRegression(max_iter=10000)\n",
        "# initialize Randomized Search CV\n",
        "random_search = RandomizedSearchCV(model, param_grid, cv=5, n_jobs=-1, scoring='accuracy')\n",
        "# fit Randomized Search cv to data\n",
        "random_search.fit(x, y)\n",
        "\n",
        "# print the best parameters\n",
        "print(f\"Best Parameters: {random_search.best_params_}\")\n",
        "a= random_search.best_params_\n",
        "# print the best score\n",
        "print(f\"Best Score: {random_search.best_score_}\")"
      ],
      "metadata": {
        "id": "enKAsq74CBZ6",
        "colab": {
          "base_uri": "https://localhost:8080/"
        },
        "outputId": "f4f6920c-5482-486b-d87e-a8ddef5ee8b2"
      },
      "execution_count": 145,
      "outputs": [
        {
          "output_type": "stream",
          "name": "stderr",
          "text": [
            "/usr/local/lib/python3.10/dist-packages/sklearn/model_selection/_validation.py:378: FitFailedWarning: \n",
            "35 fits failed out of a total of 50.\n",
            "The score on these train-test partitions for these parameters will be set to nan.\n",
            "If these failures are not expected, you can try to debug them by setting error_score='raise'.\n",
            "\n",
            "Below are more details about the failures:\n",
            "--------------------------------------------------------------------------------\n",
            "35 fits failed with the following error:\n",
            "Traceback (most recent call last):\n",
            "  File \"/usr/local/lib/python3.10/dist-packages/sklearn/model_selection/_validation.py\", line 686, in _fit_and_score\n",
            "    estimator.fit(X_train, y_train, **fit_params)\n",
            "  File \"/usr/local/lib/python3.10/dist-packages/sklearn/linear_model/_logistic.py\", line 1162, in fit\n",
            "    solver = _check_solver(self.solver, self.penalty, self.dual)\n",
            "  File \"/usr/local/lib/python3.10/dist-packages/sklearn/linear_model/_logistic.py\", line 54, in _check_solver\n",
            "    raise ValueError(\n",
            "ValueError: Solver lbfgs supports only 'l2' or 'none' penalties, got l1 penalty.\n",
            "\n",
            "  warnings.warn(some_fits_failed_message, FitFailedWarning)\n",
            "/usr/local/lib/python3.10/dist-packages/sklearn/model_selection/_search.py:952: UserWarning: One or more of the test scores are non-finite: [0.8072            nan        nan        nan        nan 0.67856667\n",
            "        nan 0.6755            nan        nan]\n",
            "  warnings.warn(\n"
          ]
        },
        {
          "output_type": "stream",
          "name": "stdout",
          "text": [
            "Best Parameters: {'penalty': 'l2', 'class_weight': None, 'C': 232.99518105153672}\n",
            "Best Score: 0.8071999999999999\n"
          ]
        }
      ]
    },
    {
      "cell_type": "code",
      "source": [
        "# Using best parameters to find best model\n",
        "\n",
        "best_model = LogisticRegression(C=a['C'], penalty=a['penalty'],\n",
        "                                class_weight=a['class_weight'], max_iter=10000)\n",
        "best_model.fit(x_train, y_train)\n",
        "y_pred = best_model.predict(x_test)\n",
        "\n",
        "accuracy = accuracy_score(y_test,y_pred)\n",
        "precision = precision_score(y_test,y_pred)\n",
        "print('Best model Accuracy :', accuracy)\n",
        "print('Best model Precision: ', precision)"
      ],
      "metadata": {
        "id": "_8rBxZ0FCBcg",
        "colab": {
          "base_uri": "https://localhost:8080/"
        },
        "outputId": "03ebeabb-9517-4fe2-c218-1c073e0f177b"
      },
      "execution_count": 147,
      "outputs": [
        {
          "output_type": "stream",
          "name": "stdout",
          "text": [
            "Best model Accuracy : 0.8089333333333333\n",
            "Best model Precision:  0.6638513513513513\n"
          ]
        }
      ]
    },
    {
      "cell_type": "code",
      "source": [
        "# Randomized Search CV for SVM\n",
        "\n",
        "param_grid = {\n",
        "    'C': np.logspace(-4, 4, 50),\n",
        "    'gamma': np.logspace(-4, 4, 50),\n",
        "    'kernel': ['linear', 'rbf', 'poly', 'sigmoid']\n",
        "}\n",
        "model = SVC()\n",
        "# initialize Randomized Search CV\n",
        "random_search = RandomizedSearchCV(model, param_grid, cv=5, n_jobs=-1, scoring='accuracy')\n",
        "# fit Randomized Search cv to data\n",
        "random_search.fit(x, y)\n",
        "\n",
        "# print the best parameters\n",
        "print(f\"Best Parameters: {random_search.best_params_}\")\n",
        "a= random_search.best_params_\n",
        "# print the best score\n",
        "print(f\"Best Score: {random_search.best_score_}\")"
      ],
      "metadata": {
        "id": "qFNFm-pqCBe9"
      },
      "execution_count": null,
      "outputs": []
    },
    {
      "cell_type": "code",
      "source": [
        "# Using best parameters to find best model\n",
        "\n",
        "best_model = SVC(C=a['C'], gamma=a['gamma'], kernel=a['kernel'])\n",
        "best_model.fit(x_train, y_train)\n",
        "y_pred = best_model.predict(x_test)\n",
        "\n",
        "accuracy = accuracy_score(y_test,y_pred)\n",
        "precision = precision_score(y_test,y_pred)\n",
        "print('Best Model Accuracy :', accuracy)\n",
        "print('Best Model Precision: ', precision)"
      ],
      "metadata": {
        "id": "JG2gG6D8CBiT"
      },
      "execution_count": null,
      "outputs": []
    },
    {
      "cell_type": "code",
      "source": [
        "# Randomized Search CV for Naive Bayes Classification\n",
        "\n",
        "param_grid = {\n",
        "    'var_smoothing': np.logspace(0, -9, 50),\n",
        "}\n",
        "model = GaussianNB()\n",
        "# initialize Randomized Search CV\n",
        "random_search = RandomizedSearchCV(model, param_grid, cv=5, n_jobs=-1, scoring='accuracy')\n",
        "# fit Randomized Search cv to data\n",
        "random_search.fit(x, y)\n",
        "\n",
        "# print the best parameters\n",
        "print(f\"Best Parameters: {random_search.best_params_}\")\n",
        "a= random_search.best_params_\n",
        "# print the best score\n",
        "print(f\"Best Score: {random_search.best_score_}\")"
      ],
      "metadata": {
        "id": "f6yktkDlIj8d"
      },
      "execution_count": null,
      "outputs": []
    },
    {
      "cell_type": "code",
      "source": [
        "# Using best parameters to find best model\n",
        "\n",
        "best_model = GaussianNB(var_smoothing=best_params_['var_smoothing'])\n",
        "best_model.fit(x_train, y_train)\n",
        "y_pred = best_model.predict(x_test)\n",
        "\n",
        "accuracy = accuracy_score(y_test,y_pred)\n",
        "precision = precision_score(y_test,y_pred)\n",
        "print('Best Model Accuracy :', accuracy)\n",
        "print('Best Model Precision: ', precision)"
      ],
      "metadata": {
        "id": "6-xxBs-zIkLW"
      },
      "execution_count": null,
      "outputs": []
    },
    {
      "cell_type": "code",
      "source": [
        "# Randomized Search CV for AdaBoost Classification\n",
        "\n",
        "param_grid = {\n",
        "    'n_estimators': [10, 50, 100, 200],\n",
        "    'learning_rate': np.logspace(-3, 0, 50),\n",
        "    'algorithm': ['SAMME', 'SAMME.R']\n",
        "}\n",
        "model = AdaBoostClassifier()\n",
        "# initialize Randomized Search CV\n",
        "random_search = RandomizedSearchCV(model, param_grid, cv=5, n_jobs=-1, scoring='accuracy')\n",
        "# fit Randomized Search cv to data\n",
        "random_search.fit(x, y)\n",
        "\n",
        "# print the best parameters\n",
        "print(f\"Best Parameters: {random_search.best_params_}\")\n",
        "a= random_search.best_params_\n",
        "# print the best score\n",
        "print(f\"Best Score: {random_search.best_score_}\")"
      ],
      "metadata": {
        "id": "jvJ2t_ZiIkOe"
      },
      "execution_count": null,
      "outputs": []
    },
    {
      "cell_type": "code",
      "source": [
        "# Using best parameters to find best model\n",
        "\n",
        "best_model = AdaBoostClassifier(n_estimators=best_params_['n_estimators'], learning_rate=best_params_['learning_rate'])\n",
        "best_model.fit(x_train, y_train)\n",
        "y_pred = best_model.predict(x_test)\n",
        "\n",
        "accuracy = accuracy_score(y_test,y_pred)\n",
        "precision = precision_score(y_test,y_pred)\n",
        "print('Best Model Accuracy :', accuracy)\n",
        "print('Best Model Precision: ', precision)"
      ],
      "metadata": {
        "id": "KBHc2kEMIkRd"
      },
      "execution_count": null,
      "outputs": []
    },
    {
      "cell_type": "code",
      "source": [
        "# Randomized Search CV for Gradient Boosting Classification\n",
        "\n",
        "param_grid = {\n",
        "    'n_estimators': [10, 50, 100, 200],\n",
        "    'learning_rate': np.logspace(-3, 0, 50),\n",
        "    'max_depth': [1, 2, 3, 4, 5],\n",
        "    'min_samples_split': [2, 3, 4],\n",
        "    'min_samples_leaf': [1, 2, 3, 4],\n",
        "    'subsample': np.linspace(0.1, 1.0, 10),\n",
        "    'max_features': list(range(1, X_train.shape[1]+1)),\n",
        "}\n",
        "model = GradientBoostingClassifier()\n",
        "# initialize Randomized Search CV\n",
        "random_search = RandomizedSearchCV(model, param_grid, cv=5, n_jobs=-1, scoring='accuracy')\n",
        "# fit Randomized Search cv to data\n",
        "random_search.fit(x, y)\n",
        "\n",
        "# print the best parameters\n",
        "print(f\"Best Parameters: {random_search.best_params_}\")\n",
        "a= random_search.best_params_\n",
        "# print the best score\n",
        "print(f\"Best Score: {random_search.best_score_}\")"
      ],
      "metadata": {
        "id": "Zyc0YBYvIkUq"
      },
      "execution_count": null,
      "outputs": []
    },
    {
      "cell_type": "code",
      "source": [
        "# Using best parameters to find best model\n",
        "\n",
        "best_model = GradientBoostingClassifier(n_estimators=best_params['n_estimators'],learning_rate=best_params_['learning_rate'],max_depth=best_params_['max_depth'],min_samples_split=best_params_['min_samples_split'],min_samples_leaf=best_params_['min_samples_leaf'],subsample=best_params_['subsample'])\n",
        "best_model.fit(x_train, y_train)\n",
        "y_pred = best_model.predict(x_test)\n",
        "\n",
        "accuracy = accuracy_score(y_test,y_pred)\n",
        "precision = precision_score(y_test,y_pred)\n",
        "print('Best Model Accuracy :', accuracy)\n",
        "print('Best Model Precision: ', precision)"
      ],
      "metadata": {
        "id": "YmhscsXZN9vL"
      },
      "execution_count": null,
      "outputs": []
    },
    {
      "cell_type": "code",
      "source": [
        "# Randomized Search CV for XGBoost Classification\n",
        "\n",
        "# Define parameter grid\n",
        "param_grid = {\n",
        "    'max_depth': np.arange(3, 10),\n",
        "    'learning_rate': np.logspace(-3, 0, 5),\n",
        "    'n_estimators': np.arange(100, 2000),\n",
        "    'gamma': np.logspace(-3, 0, 5),\n",
        "    'subsample': np.arange(0.5, 1.0, 0.1),\n",
        "    'colsample_bytree': np.arange(0.5, 1.0, 0.1),\n",
        "    'min_child_weight': np.arange(1, 10),\n",
        "    'reg_alpha': np.arange(0, 10),\n",
        "    'reg_lambda': np.arange(0, 10),\n",
        "    'scale_pos_weight': np.arange(0, 5),\n",
        "}\n",
        "# Define the xgboost model\n",
        "xgb_model = XGBClassifier(\n",
        "    objective='binary:logistic',\n",
        "    use_label_encoder=False,\n",
        "    eval_metric='logloss',\n",
        "    verbose=0\n",
        ")\n",
        "\n",
        "# Initialize randomized search cv\n",
        "random_search = RandomizedSearchCV(\n",
        "    estimator=xgb_model,\n",
        "    param_distributions=param_grid,\n",
        "    n_iter=100,\n",
        "    cv=5,\n",
        "    verbose=2,\n",
        "    random_state=42,\n",
        "    n_jobs=-1\n",
        ")\n",
        "\n",
        "# Fit the model\n",
        "random_search.fit(x, y)\n",
        "\n",
        "# print the best parameters\n",
        "print(f\"Best Parameters: {random_search.best_params_}\")\n",
        "a= random_search.best_params_\n",
        "# print the best score\n",
        "print(f\"Best Score: {random_search.best_score_}\")"
      ],
      "metadata": {
        "id": "qcseNk4UN9xn"
      },
      "execution_count": null,
      "outputs": []
    },
    {
      "cell_type": "code",
      "source": [
        "# Using best parameters to build best model\n",
        "\n",
        "best_model = XGBClassifier(max_depth=a['max_depth'],learning_rate=a['learning_rate'],n_estimators=a['n_estimators'],gamma=a['gamma'],subsample=a['subsample'],colsample_bytree=a['colsample_bytree'],min_child_weight=a['min_child_weight'],reg_alpha=a['reg_alpha'],reg_lambda=a['reg_lambda'],scale_pos_weight=a['scale_pos_weight'])\n",
        "best_model.fit(x_train, y_train)\n",
        "y_pred = best_model.predict(x_test)\n",
        "\n",
        "accuracy = accuracy_score(y_test,y_pred)\n",
        "precision = precision_score(y_test,y_pred)\n",
        "print('Best Model Accuracy :', accuracy)\n",
        "print('Best Model Precision: ', precision)"
      ],
      "metadata": {
        "id": "Cul_mcUVN90S"
      },
      "execution_count": null,
      "outputs": []
    },
    {
      "cell_type": "code",
      "source": [
        "# 3rd method of hyper parameter tuning is Bayesian Optimization\n"
      ],
      "metadata": {
        "id": "FtzkK9xzN93w"
      },
      "execution_count": null,
      "outputs": []
    },
    {
      "cell_type": "code",
      "source": [
        "# Bayesian Optimization\n",
        "\n",
        "from bayes_opt import BayesianOptimization"
      ],
      "metadata": {
        "id": "Dt1iQTcNsivG"
      },
      "execution_count": null,
      "outputs": []
    },
    {
      "cell_type": "code",
      "source": [
        "# Bayesian Optimization for KNN Classification\n",
        "\n",
        "def knn_cv_score(n_neighbors, weights):\n",
        "    model = KNeighborsClassifier(n_neighbors=n_neighbors, weights=weights)\n",
        "    scores = cross_val_score(model, X, y, cv=5)\n",
        "    return np.mean(scores)\n",
        "\n",
        "pbounds = {'n_neighbors': (1, 50), 'weights': ('uniform', 'distance')}\n",
        "\n",
        "optimizer = BayesianOptimization(\n",
        "    f=knn_cv_score,\n",
        "    pbounds=pbounds,\n",
        "    verbose=2,\n",
        "    random_state=42\n",
        ")\n",
        "# Perform the hyperparameter tuning using Bayesian Optimization\n",
        "optimizer.maximize(init_points=5, n_iter=15)\n",
        "\n",
        "print(f\"Best n_neighbors: {optimizer.max['params']['n_neighbors']}\")\n",
        "print(f\"Best weights: {optimizer.max['params']['weights']}\")"
      ],
      "metadata": {
        "id": "u-TG1rk5siyK"
      },
      "execution_count": null,
      "outputs": []
    },
    {
      "cell_type": "code",
      "source": [
        "# Bayesian Optimization for SVM\n",
        "\n",
        "def svm_accuracy(gamma, C):\n",
        "    model = SVC(gamma=gamma, C=C)\n",
        "    model.fit(X_train, y_train)\n",
        "    predictions = model.predict(X_test)\n",
        "    return accuracy_score(y_test, predictions)\n",
        "\n",
        "optimizer = BayesianOptimization(\n",
        "    f=svm_accuracy,\n",
        "    pbounds={'gamma': (0.001, 10), 'C': (0.001, 10)},\n",
        "    verbose=2,\n",
        "    random_state=42\n",
        ")\n",
        "# Perform the hyperparameter tuning using Bayesian Optimization\n",
        "optimizer.maximize(init_points=5, n_iter=15)\n",
        "\n",
        "print(f\"Best gamma: {optimizer.max['params']['gamma']}\")\n",
        "print(f\"Best C: {optimizer.max['params']['C']}\")\n",
        "\n",
        "# Train and test the SVM classification model with the best hyperparameters\n",
        "best_gamma = optimizer.max['params']['gamma']\n",
        "best_C = optimizer.max['params']['C']\n",
        "\n",
        "model = SVC(gamma=best_gamma, C=best_C)"
      ],
      "metadata": {
        "id": "muV6dNCssi04"
      },
      "execution_count": null,
      "outputs": []
    },
    {
      "cell_type": "code",
      "source": [],
      "metadata": {
        "id": "m8Zg_TX_si4a"
      },
      "execution_count": null,
      "outputs": []
    }
  ],
  "metadata": {
    "colab": {
      "provenance": []
    },
    "kernelspec": {
      "display_name": "Python 3",
      "name": "python3"
    },
    "language_info": {
      "name": "python"
    }
  },
  "nbformat": 4,
  "nbformat_minor": 0
}